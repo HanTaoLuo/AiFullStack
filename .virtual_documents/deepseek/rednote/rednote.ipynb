


from openai import OpenAI
import os

from deepseek.api.rag_milvus_deepseek import messages

api_key = os.getenv("DEEPSEEK_API_KEY")
deepseek_url = "https://api.deepseek.com/v1"
client= OpenAI(
    api_key=api_key,
    base_url=deepseek_url
)








# 构建系统提示词(角色)  指出让LLM 采用 Thought-Action-Observation 模式进行推理和行动
SYSTEM_PROMPT="""
你是一个资深的爆款小红书文案专家、同时是一名资深内容运行、删除结合最新潮流和产品卖点，创作引人入胜。高互动、高转化的笔记文案。
你的任务是根据用户提供的产品和需求，生成包含标题、正文、相关标签和笔记符号的完整小红书笔记。
请始终采用 `Thought-Action-Observation`模式进行推理和行动。文案风格需要积极、活泼、阳光、真诚且富有感染力，容易让人共情。当完成任务后请以 json 格式直接输出最终文案： 格式如下：
```json
{
  "title": "小红书标题",
  "body": "小红书正文",
  "hashtags": ["#标签1", "#标签2", "#标签3", "#标签4", "#标签5"],
  "emojis": ["✨", "🔥", "💖"]
}
```
在生成文案之前，请务必先思考并收集足够的信息。
"""





def _generate_tools_dict(function_name:str,function_desc:str,parameters:dict,required_params:list) ->dict:
    """
    参数:
        name (str): 工具名称，如 "search_web"
        description (str): 工具描述
        parameters (dict): 参数定义，格式为 {"参数名": {"type": "类型", "description": "描述"}}
        required_params (list): 必填参数名列表，如 ["query"]
        其中 function_desc 【很重要】 用于LLM 识别是否该调用的关键参数
    
    返回:
        dict: 符合 DeepSeek 规范的单个工具字典
    """
    dict_format = {
        "type": "function",
        "function": {
            "name": function_name,
            "description": function_desc,
            "parameters": {
                "type": "object",
                "properties": parameters,
                "required": required_params
            }
        }
    }
    return dict_format


search_tool = _generate_tools_dict(
    function_name="search_web",
    function_desc="搜索互联网上的实时信息，用于获取最新新闻、流行趋势、用户评价、行业报告等。请确保搜索关键词精确，避免宽泛的查询。",
    parameters={
        "query": {
            "type": "string",
            "description": "要搜索的关键词或问题，例如'最新小红书美妆趋势'或'深海蓝藻保湿面膜 用户评价'"
        }
    },
    required_params=["query"]
)
emoji_tool = _generate_tools_dict(
    function_name="generate_emoji",
    function_desc="根据提供的文本内容，生成一组适合小红书风格的表情符号。",
    parameters={
        "context": {
            "type": "string",
            "description": "文案的关键内容或情感，例如'惊喜效果'、'补水保湿'"
        }
    },
    required_params=["context"]
)
db_tool = _generate_tools_dict(
    function_name = "query_product_database",
    function_desc="查询内部产品数据库，获取指定产品的详细卖点、成分、适用人群、使用方法等信息。",
    parameters={
        "product_name": {
            "type": "string",
            "description": "要查询的产品名称，例如'深海蓝藻保湿面膜'"
        }
    },
    required_params = ["product_name"]
)
TOOLS_DEFINITION = [search_tool,emoji_tool,db_tool]



import json
tools_json = json.dumps(TOOLS_DEFINITION,ensure_ascii=False,indent=2)
print(tools_json)





import random # 模拟生成表情
import time  # 模拟网络延迟

def mock_search_web(query:str) ->str:
    print(f"[Tool Call] 模拟搜索网页：{query}")
    time.sleep(1) # 模拟网络延迟
    if "小红书美妆趋势" in query:
        return "近期小红书美妆流行'多巴胺穿搭'、'早C晚A'护肤理念、'伪素颜'妆容，热门关键词有#氛围感、#抗老、#屏障修复。"
    elif "保湿面膜" in query:
        return "小红书保湿面膜热门话题：沙漠干皮救星、熬夜急救面膜、水光肌养成。用户痛点：卡粉、泛红、紧绷感。"
    elif "深海蓝藻保湿面膜" in query:
        return "关于深海蓝藻保湿面膜的用户评价：普遍反馈补水效果好，吸收快，对敏感肌友好。有用户提到价格略高，但效果值得。"
    else:
        return f"未找到关于 '{query}' 的特定信息，但市场反馈通常关注产品成分、功效和用户体验。"


def mock_query_product_database(product_name: str) -> str:
    """模拟查询产品数据库，返回预设的产品信息。"""
    print(f"[Tool Call] 模拟查询产品数据库：{product_name}")
    time.sleep(0.5) # 模拟数据库查询延迟
    if "深海蓝藻保湿面膜" in product_name:
        return "深海蓝藻保湿面膜：核心成分为深海蓝藻提取物，富含多糖和氨基酸，能深层补水、修护肌肤屏障、舒缓敏感泛红。质地清爽不粘腻，适合所有肤质，尤其适合干燥、敏感肌。规格：25ml*5片。"
    elif "美白精华" in product_name:
        return "美白精华：核心成分是烟酰胺和VC衍生物，主要功效是提亮肤色、淡化痘印、改善暗沉。质地轻薄易吸收，适合需要均匀肤色的人群。"
    else:
        return f"产品数据库中未找到关于 '{product_name}' 的详细信息。"


def mock_generate_emoji_list(context:str)->list:
    """模拟生成表情符号，根据上下文提供常见标间"""
    print(f"[Tool Call] 模拟生成表情符号，上下文：{context}")
    time.sleep(0.2) # 模拟生成延迟
    if "补水" in context or "水润" in context or "保湿" in context:
        return ["💦", "💧", "🌊", "✨"]
    elif "惊喜" in context or "哇塞" in context or "爱了" in context:
        return ["💖", "😍", "🤩", "💯"]
    elif "熬夜" in context or "疲惫" in context:
        return ["😭", "😮‍💨", "😴", "💡"]
    elif "好物" in context or "推荐" in context:
        return ["✅", "👍", "⭐", "🛍️"]
    else:
        return random.sample(["✨", "🔥", "💖", "💯", "🎉", "👍", "🤩", "💧", "🌿"], k=min(5, len(context.split())))
# 名称->函数 映射表   
# 执行方式​​：通过字典查找到函数后，直接加括号 () 调用。
available_tools={
    "search_web":mock_search_web,
    "generate_emoji":mock_generate_emoji_list,
    "query_product_database":mock_query_product_database
}





import re

def generate_redbook_note(product_name:str,tone_style:str="活泼甜美",max_iterations:int = 5)->str:
    """
    使用Deepseek Agent 生成小红书爆款文案
    :param product_name: 要生成的产品名称
    :param tone_style: 文案的语气和风格，如"活泼可爱"、"知性"、"搞怪"等
    :param max_iterations:  Agent 最大迭代次数
    :return: 生成爆款文案(JSON 格式字符串)
    """
    print(f"\n 启动小红书文案生成助手 产品:{product_name} ,  文案风格:{tone_style}")
    messages = [

    ]
