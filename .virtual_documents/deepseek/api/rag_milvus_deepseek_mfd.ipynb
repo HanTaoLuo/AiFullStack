





import re
from typing import List, Dict
import json


def parse_civil_code(text: str) -> List[Dict]:
    """
    解析民法典文本，分割为适合检索的文本块

    参数:
        text: 民法典完整文本

    返回:
        包含文本块和元数据的字典列表
    """
    # 初始化变量
    current_part = ""
    current_chapter = ""
    current_section = ""
    current_subsection = ""
    blocks = []

    # 分割行并处理
    lines = text.split('\n')

    for line in lines:
        line = line.strip()
        if not line:
            continue

        # 检测编标题 (如 "### （二）物权编")
        part_match = re.match(r'^#{2,3}\s*（[一二三四五六七八九十]+）(.+编)', line)
        if part_match:
            current_part = part_match.group(1).strip()
            current_chapter = ""
            current_section = ""
            current_subsection = ""
            continue

        # 检测章标题 (如 "#### 第一章 一般规定")
        chapter_match = re.match(r'^#{2,4}\s*第[一二三四五六七八九十百]+章\s+(.+)', line)
        if chapter_match:
            current_chapter = chapter_match.group(1).strip()
            current_section = ""
            current_subsection = ""
            continue

        # 检测节标题 (如 "##### 第一节 一般规定")
        section_match = re.match(r'^#{2,5}\s*第[一二三四五六七八九十百]+节\s+(.+)', line)
        if section_match:
            current_section = section_match.group(1).strip()
            current_subsection = ""
            continue

        # 检测条款 (如 "**第二百零四条** 为了明确物的归属...")
        clause_match = re.match(r'^\*\*(第[零一二三四五六七八九十百千]+条)\*\*\s*(.+)', line)
        if clause_match:
            clause_num = clause_match.group(1)
            clause_content = clause_match.group(2)

            # 构建上下文标题
            context = []
            if current_part:
                context.append(current_part)
            if current_chapter:
                context.append(f"第{current_chapter}章")
            if current_section:
                context.append(f"第{current_section}节")

            context_title = " > ".join(context)

            # 构建完整文本 (上下文+条款内容)
            full_text = f"{context_title}\n{clause_num} {clause_content}" if context_title else f"{clause_num} {clause_content}"

            # 构建元数据
            metadata = {
                "part": current_part,
                "chapter": current_chapter,
                "section": current_section,
                "clause_number": clause_num,
                "clause_content": clause_content,
                "context_title": context_title
            }

            blocks.append(json.dumps({
                "text": full_text,
                "metadata": metadata
            },ensure_ascii=False))


    return blocks


from glob import glob



full_text = ""
file_path = '../rag_resources/milvus_docs/mfd/*.md'
for each_file in glob(file_path,recursive=True):
    with open(each_file,'r') as f:
        full_text = f.read()
text_data = parse_civil_code(full_text)
print(text_data[:2])


import  os
deepseek_key = os.getenv("DEEPSEEK_API_KEY")
deepseek_url = "https://api.deepseek.com/v1"


# 准备 LLM 和Embedding 模型
from openai import OpenAI
deepseek_client = OpenAI(
    api_key=deepseek_key,
    base_url=deepseek_url
)


# 定义embedding 模型
from pymilvus import model as milvus_model, MilvusClient

embedding_model  = milvus_model.DefaultEmbeddingFunction()



question_list = [
    "不动产登记错误导致损害，责任如何承担？",
    "业主对小区共有部分的权利和义务有哪些？"
]



embedding_query_arr =embedding_model.encode_queries(question_list)
print(len(embedding_query_arr))





# 创建 milvus collections
from pymilvus import MilvusClient
mdf_milvus_db_path ="./mfd.db"
# 对应表名
collection_name = "mfd_collection"
milvus_client = MilvusClient(
    uri=mdf_milvus_db_path
)
if milvus_client.has_collection(collection_name):
    milvus_client.drop_collection(collection_name)





metric_type ="COSINE"
consistency_level = "Bounded"
# 向量维度，至于单个向量维度有关，单个向量维度视模型而定，bert 模型为 768维
dimension_value = len(embedding_query_arr[0])
milvus_client.create_collection(
    collection_name=collection_name,
    dimension=dimension_value,
    metric_type=metric_type,
    consistency_level = consistency_level
)





from tqdm import  tqdm
data =[]
doc_embedding = embedding_model.encode_documents(text_data)
print(f" 原始文本 list 大小为 :{len(text_data)}")
print(f"embedding 成向量后 数组大小为: {len(doc_embedding)}")


### 向 collection 中插入元素
tqdm_desc = f"insert to collection {collection_name} "
for index,line in enumerate(tqdm(text_data,desc=tqdm_desc)):
    item={"id":index,"vector":doc_embedding[index],"text":line}
    data.append(item)
milvus_client.insert(collection_name=collection_name,data=data)






query_embedding_vector = embedding_model.encode_queries(question_list)
search_params={"metric_type":"COSINE","params":{}}
# milvus 返回的字段
output_fields  = ["text"]
# 注意查询是使用 client 来进行 search
search_result = milvus_client.search(
    collection_name=collection_name,
    data= query_embedding_vector,
    limit = 5,
    search_params=search_params,
    output_fields=output_fields
)
print(search_result)



