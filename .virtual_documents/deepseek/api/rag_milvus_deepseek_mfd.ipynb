





import re
from typing import List, Dict
import json


def parse_civil_code(text: str) -> List[str]:
    """
    提取法典的层级结构并切分条文，返回条文JSON字符串列表

    返回:
        List[str]: 每个条文转换为JSON字符串的列表
    """
    # 定义正则模式
    part_pattern = re.compile(r"##\s+(.+编)")
    chapter_pattern = re.compile(r"###\s+(.+章)")
    section_pattern = re.compile(r"####\s+(.+节)")
    article_pattern = re.compile(r"\*\*第([零一二三四五六七八九十百千]+)条\*\*\s*(.+)")

    # 初始化当前层级状态
    current_part = ""
    current_chapter = ""
    current_section = ""

    articles = []
    current_article = {"number": "", "content": "", "full_text": ""}

    # 逐行处理
    for line in text.split("\n"):
        line = line.strip()
        if not line:
            continue

        # 1. 识别编
        if part_match := part_pattern.match(line):
            current_part = part_match.group(1)
            current_chapter = ""
            current_section = ""

        # 2. 识别章
        elif chapter_match := chapter_pattern.match(line):
            current_chapter = chapter_match.group(1)
            current_section = ""

        # 3. 识别节
        elif section_match := section_pattern.match(line):
            current_section = section_match.group(1)

        # 4. 识别条文
        elif article_match := article_pattern.match(line):
            # 保存上一条文（如果有）
            if current_article["number"]:
                current_article.update({
                    "part": current_part,
                    "chapter": current_chapter,
                    "section": current_section
                })
                articles.append(json.dumps(current_article, ensure_ascii=False))

            # 开始新条文
            article_number = article_match.group(1)
            article_content = article_match.group(2).strip()
            current_article = {
                "number": f"第{article_number}条",
                "content": article_content,
                "full_text": article_content,
                "part": current_part,
                "chapter": current_chapter,
                "section": current_section
            }

        # 5. 条文内容延续
        elif current_article["number"]:
            # 处理内容延续
            current_article["full_text"] += "\n" + line

            # 优化内容显示：连接短行
            if line.endswith(("，", "；", "、")) or len(current_article["content"].split()[-1]) < 4:
                current_article["content"] += line
            else:
                current_article["content"] += " " + line

    # 添加最后一条
    if current_article["number"]:
        articles.append(json.dumps(current_article, ensure_ascii=False))

    return articles


from glob import glob



full_text = ""
file_path = '../rag_resources/milvus_docs/mfd/*.md'
for each_file in glob(file_path,recursive=True):
    with open(each_file,'r') as f:
        full_text = f.read()
text_data = parse_civil_code(full_text)
print(type(text_data[0]))


import  os
deepseek_key = os.getenv("DEEPSEEK_API_KEY")
deepseek_url = "https://api.deepseek.com/v1"


# 准备 LLM 和Embedding 模型
from openai import OpenAI
deepseek_client = OpenAI(
    api_key=deepseek_key,
    base_url=deepseek_url
)


# 定义embedding 模型
from pymilvus import model as milvus_model, MilvusClient

embedding_model  = milvus_model.DefaultEmbeddingFunction()



question_list = [
    "民法典中关于房屋买卖合同的规定有哪些",
    "业主拒缴物业费，物业公司能否以停水停电方式催缴"
]



embedding_query_arr =embedding_model.encode_queries(question_list)
print(len(embedding_query_arr))





# 创建 milvus collections
from pymilvus import MilvusClient
mdf_milvus_db_path ="./mfd.db"
# 对应表名
collection_name = "mfd_collection"
milvus_client = MilvusClient(
    uri=mdf_milvus_db_path
)
if milvus_client.has_collection(collection_name):
    milvus_client.drop_collection(collection_name)





metric_type ="IP"
consistency_level = "Strong"
# 向量维度，至于单个向量维度有关，单个向量维度视模型而定，bert 模型为 768维
dimension_value = len(embedding_query_arr[0])
milvus_client.create_collection(
    collection_name=collection_name,
    dimension=dimension_value,
    metric_type=metric_type,
    consistency_level = consistency_level
)





from tqdm import  tqdm
# print(text_data)
data =[]
doc_embedding = embedding_model.encode_documents(text_data)
print(f" 原始文本 list 大小为 :{len(text_data)}")
print(f"embedding 成向量后 数组大小为: {len(doc_embedding)}")


### 向 collection 中插入元素
tqdm_desc = f"insert to collection {collection_name} "
for index,line in enumerate(tqdm(text_data,desc=tqdm_desc)):
    item={"id":index,"vector":doc_embedding[index],"text":line}
    data.append(item)
milvus_client.insert(collection_name=collection_name,data=data)






query_embedding_vector = embedding_model.encode_queries(question_list)
search_params={"metric_type":"IP","params":{}}
# milvus 返回的字段
output_fields  = ["text"]
# 注意查询是使用 client 来进行 search
search_result = milvus_client.search(
    collection_name=collection_name,
    data= query_embedding_vector,
    limit = 3,
    search_params=search_params,
    output_fields=output_fields
)
print(search_result)






def get_answer_by_query(query_result):
    answer = []
    for each_result in query_result:
        entity_text = json.loads(each_result["entity"]["text"])
        answer.append({
            "id":each_result["id"],
            "distance":each_result["distance"],
            "text":entity_text["full_text"]
        })
    return answer




data = []
for index,answer in enumerate(search_result):
    question = question_list[index]
    answer = get_answer_by_query(search_result[index])
    data.append(answer)





def _format_answer_to_json(result_dict):
    return json.dumps(result_dict,ensure_ascii=False,indent=4)


context_array  = [ _format_answer_to_json(each_answer_dict) for answer in data for each_answer_dict in answer ]
print(context_array)


SYSTEM_PROMPT = """
Human: 你是一个 AI 助手。你能够从提供的上下文段落片段中找到问题的答案。
"""
for index, answer in enumerate(data) :
    context_array = [ _format_answer_to_json(each_answer_dict) for each_answer_dict in answer]
    context =  "\n".join(context_array)
    USER_PROMPT = f"""
    请使用以下用 <context> 标签括起来的信息片段来回答用 <question> 标签括起来的问题,回复格式为：
    用户提问的问题为：xxxx，
    回答：
    ....
    参考依据为:
    ....
    <question>
    {question_list[index]}
    </question>
    
    <context>
    {context}
    </context>

    """
    response = deepseek_client.chat.completions.create(
    model="deepseek-chat",
    messages=[
        {"role": "system", "content": SYSTEM_PROMPT},
        {"role": "user", "content": USER_PROMPT},
    ],
)
    print(response.choices[0].message.content)
