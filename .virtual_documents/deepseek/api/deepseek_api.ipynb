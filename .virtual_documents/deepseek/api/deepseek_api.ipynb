import os

from IPython.core.debugger import prompt
from openai import OpenAI
from sympy import false
#  v1 指的是 api 版本
deepseek_api_base_address="https://api.deepseek.com/v1"
api_key = os.getenv("DEEPSEEK_API_KEY")
if not api_key:
    raise ValueError("获取 DEEPSEEK_API_KEY 环境变量失败")

client = OpenAI(
    api_key=api_key,
    base_url=deepseek_api_base_address
)
prompt = """请帮我使用纯 html 生成一个五子棋游戏 要求带悔棋功能，生成的所有代码都保存在一个 HTML 文件中。"""




# 定义 deepseek 模型类型
model_type = "deepseek-chat"
#定义大模型角色 放在 system下
system_role={"role":"system","content":"你是一个专业 web 开发助手，擅长 HTML/CSS/JavaScript 编写小游戏"}
# deepseek  docs  提示库：https://api-docs.deepseek.com/zh-cn/prompt-library/
# 用户期望模型干的事儿 放在 user 下
user_role={"role":"user","content":prompt}
local_html_save_path = "Gomoku.html"
try:
    response=client.chat.completions.create(
        model=model_type,
        messages=[
            system_role,
            user_role
        ],
        temperature=0.7,
        stream=False
    )
    # 提取生成的 html 内容 response.choices 表示模型回答结果  回答结果可能有多个
    if response.choices and len(response.choices)>0:
        html_content = response.choices[0].message.content
        with open(local_html_save_path,"w",encoding="utf-8") as f:
            f.write(html_content)
        print(f"文件生成成功 文件名为{local_html_save_path}")
    else:
        print("未收到大模型有效响应")
except Exception as e:
    print(f"api 请求异常 原因:{e}")



