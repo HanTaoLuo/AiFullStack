


from openai import OpenAI
import os



local_deepseek_host = "http://localhost:11434/v1"
api_key="ollama"
# deepseek r1 不支持 tool/function call 
deepseek_model  = "qwen3:4b"
client= OpenAI(
    api_key=api_key,
    base_url=local_deepseek_host
)









# 构建系统提示词(角色)  指出让LLM 采用 Thought-Action-Observation 模式进行推理和行动
# 系统提示词也为字典格式
SYSTEM_PROMPT={
    "role":"system",
    "content":""""
你是一个资深的爆款小红书文案专家、同时是一名资深内容运行、删除结合最新潮流和产品卖点，创作引人入胜。高互动、高转化的笔记文案。
你的任务是根据用户提供的产品和需求，生成包含标题、正文、相关标签和笔记符号的完整小红书笔记。
请始终采用 `Thought-Action-Observation`模式进行推理和行动。文案风格需要积极、活泼、阳光、真诚且富有感染力，容易让人共情。当完成任务后请以 json 格式直接输出最终文案： 格式如下：
```json
{
  "title": "小红书标题",
  "body": "小红书正文",
  "hashtags": ["#标签1", "#标签2", "#标签3", "#标签4", "#标签5"],
  "emojis": ["✨", "🔥", "💖"]
}
```
在生成文案之前，请务必先思考并收集足够的信息。
"""}





def _generate_tools_dict(function_name:str,function_desc:str,parameters:dict,required_params:list) ->dict:
    """
    参数:
        name (str): 工具名称，如 "search_web"
        description (str): 工具描述
        parameters (dict): 参数定义，格式为 {"参数名": {"type": "类型", "description": "描述"}}
        required_params (list): 必填参数名列表，如 ["query"]
        其中 function_desc 【很重要】 用于LLM 识别是否该调用的关键参数
    
    返回:
        dict: 符合 DeepSeek 规范的单个工具字典
    """
    dict_format = {
        "type": "function",
        "function": {
            "name": function_name,
            "description": function_desc,
            "parameters": {
                "type": "object",
                "properties": parameters,
                "required": required_params
            }
        }
    }
    return dict_format


search_tool = _generate_tools_dict(
    function_name="search_web",
    function_desc="搜索互联网上的实时信息，用于获取最新新闻、流行趋势、用户评价、行业报告等。请确保搜索关键词精确，避免宽泛的查询。",
    parameters={
        "query": {
            "type": "string",
            "description": "要搜索的关键词或问题，例如'最新小红书美妆趋势'或'深海蓝藻保湿面膜 用户评价'"
        }
    },
    required_params=["query"]
)
emoji_tool = _generate_tools_dict(
    function_name="generate_emoji",
    function_desc="根据提供的文本内容，生成一组适合小红书风格的表情符号。",
    parameters={
        "context": {
            "type": "string",
            "description": "文案的关键内容或情感，例如'惊喜效果'、'补水保湿'"
        }
    },
    required_params=["context"]
)
db_tool = _generate_tools_dict(
    function_name = "query_product_database",
    function_desc="查询内部产品数据库，获取指定产品的详细卖点、成分、适用人群、使用方法等信息。",
    parameters={
        "product_name": {
            "type": "string",
            "description": "要查询的产品名称，例如'深海蓝藻保湿面膜'"
        }
    },
    required_params = ["product_name"]
)
TOOLS_DEFINITION = [search_tool,emoji_tool,db_tool]



import json
tools_json = json.dumps(TOOLS_DEFINITION,ensure_ascii=False,indent=2)
print(tools_json)





import random # 模拟生成表情
import time  # 模拟网络延迟

def mock_search_web(query:str) ->str:
    print(f"[Tool Call] 模拟搜索网页：{query}")
    time.sleep(1) # 模拟网络延迟
    if "小红书美妆趋势" in query:
        return "近期小红书美妆流行'多巴胺穿搭'、'早C晚A'护肤理念、'伪素颜'妆容，热门关键词有#氛围感、#抗老、#屏障修复。"
    elif "保湿面膜" in query:
        return "小红书保湿面膜热门话题：沙漠干皮救星、熬夜急救面膜、水光肌养成。用户痛点：卡粉、泛红、紧绷感。"
    elif "深海蓝藻保湿面膜" in query:
        return "关于深海蓝藻保湿面膜的用户评价：普遍反馈补水效果好，吸收快，对敏感肌友好。有用户提到价格略高，但效果值得。"
    else:
        return f"未找到关于 '{query}' 的特定信息，但市场反馈通常关注产品成分、功效和用户体验。"


def mock_query_product_database(product_name: str) -> str:
    """模拟查询产品数据库，返回预设的产品信息。"""
    print(f"[Tool Call] 模拟查询产品数据库：{product_name}")
    time.sleep(0.5) # 模拟数据库查询延迟
    if "深海蓝藻保湿面膜" in product_name:
        return "深海蓝藻保湿面膜：核心成分为深海蓝藻提取物，富含多糖和氨基酸，能深层补水、修护肌肤屏障、舒缓敏感泛红。质地清爽不粘腻，适合所有肤质，尤其适合干燥、敏感肌。规格：25ml*5片。"
    elif "美白精华" in product_name:
        return "美白精华：核心成分是烟酰胺和VC衍生物，主要功效是提亮肤色、淡化痘印、改善暗沉。质地轻薄易吸收，适合需要均匀肤色的人群。"
    else:
        return f"产品数据库中未找到关于 '{product_name}' 的详细信息。"


def mock_generate_emoji_list(context:str)->list:
    """模拟生成表情符号，根据上下文提供常见标间"""
    print(f"[Tool Call] 模拟生成表情符号，上下文：{context}")
    time.sleep(0.2) # 模拟生成延迟
    if "补水" in context or "水润" in context or "保湿" in context:
        return ["💦", "💧", "🌊", "✨"]
    elif "惊喜" in context or "哇塞" in context or "爱了" in context:
        return ["💖", "😍", "🤩", "💯"]
    elif "熬夜" in context or "疲惫" in context:
        return ["😭", "😮‍💨", "😴", "💡"]
    elif "好物" in context or "推荐" in context:
        return ["✅", "👍", "⭐", "🛍️"]
    else:
        return random.sample(["✨", "🔥", "💖", "💯", "🎉", "👍", "🤩", "💧", "🌿"], k=min(5, len(context.split())))
# 名称->函数 映射表   
# 执行方式 ：通过字典查找到函数后，直接加括号 () 调用。
available_tools={
    "search_web":mock_search_web,
    "generate_emoji":mock_generate_emoji_list,
    "query_product_database":mock_query_product_database
}





import re

def generate_redbook_note(product_name:str,tone_style:str="活泼甜美",max_iterations:int = 5)->str:
    """
    使用Deepseek Agent 生成小红书爆款文案
    :param product_name: 要生成的产品名称
    :param tone_style: 文案的语气和风格，如"活泼可爱"、"知性"、"搞怪"等
    :param max_iterations:  Agent 最大迭代次数
    :return: 生成爆款文案(JSON 格式字符串)
    """
    print(f"\n 启动小红书文案生成助手 产品:{product_name} ,  文案风格:{tone_style}")
    # json {{}}  表示 非转义字符 正常输出{}   eg: {{....}} 输出 {....}
    USER_PROMPT={
        "role":"user",
        "content":f"请为产品「{product_name}」生成一篇小红书爆款文案。要求：语气{tone_style}，包含标题、正文、至少5个相关标签和5个表情符号。请以完整的JSON格式输出，并确保JSON内容用markdown代码块包裹（例如：```json{{...}}```）。"
    }
    messages = [
        SYSTEM_PROMPT,
        USER_PROMPT
    ]
    iteration_count = 0
    
    while iteration_count<max_iterations:
        iteration_count+=1
        print(f"-- Iteration {iteration_count} --")
        try:
            # 调用 Deepseek API，传入对话历史和工具定义
            response  = client.chat.completions.create(
                model = deepseek_model,
                messages = messages,
                tools=TOOLS_DEFINITION,
                tool_choice="auto"
            )
            response_message = response.choices[0].message

            # **ReAct 模式:处理工具调用**
            # 如果模型决定调用工具
            if response_message.tool_calls:
                print(f"Agent 决定调用工具 .....")
                #将工具调用信息添加到对话历史中 表示message 已经由模型调用了工具。 也就是添加工具调用上下文
                messages.append(response_message)
                tools_outputs = []
                # 遍历大模型要调用的所有已注册函数
                for tool_call in response_message.tool_calls:
                    function_name = tool_call.function.name
                    # 保证调用函数的参数为合法的 json 字符串
                    # 即便工具不要求使用参数  也需要传入空的字典！
                    function_args =  json.loads(tool_call.function.arguments) if tool_call.function.arguments else {}
                    print(f"Agent 调用工具：  调用工具(function) 名称为:{function_name}  对应 tools 的 参数为 {function_args}")

                    # 调用工具
                    if function_name in available_tools:
                        # 根据定义的名字找到对应函数对象
                        tool_function = available_tools[function_name]
                        # 名称-函数映射表 调用函数
                        tool_result = tool_function(**function_args)
                        print(f"Observation : 工具 {function_name} 返回结果{tool_result}")
                        # 拼接函数输出结果。供返回给大模型  模型可以根据调用 id 知道调用了什么工具
                        tools_output = {
                            "tool_call_id":tool_call.id,
                            "role":"tool",
                            "content":str(tool_result)
                        }
                        tools_outputs.append(tools_output)
                    else:
                        error_msg = f"未注册工具 {function_name} 被调用！"
                        print(error_msg)
                        tools_output= {
                            "tool_call_id":tool_call.id,
                            "role":"tool",
                            "content":error_msg
                        }
                        tools_outputs.append(tools_output)
                # 将模型调用函数生成结果拼接回消息体中
                messages.extend(tools_outputs)
            # 当模型直接返回/输出内容的时候 表示生成了最终答案(  一般来说是这样)
            # **ReAct 模式:处理最终结果**
            elif response_message.content:
                print(f"模型生成结果:{response_message.content}")
                # 由于 USER_PROMPT 要求生成文本为 json 的 markdown  提取生成的 json 内容
                # re.DOTALL 表示改变正则表达式点号(.)的默认匹配行为， 默认.号表示匹配除换行符（\n）以外 的任意字符
                # 启用 re.DOTALL 标志时"." 会匹配包括换行符（\n）在内的所有字符
                json_string_match =  re.search(r"```json\s*(\{.*\})\s*```",response_message.content,re.DOTALL)
                if json_string_match:
                    # 提取匹配生成内容
                    extracted_json_content = json_string_match.group(1)
                    try:
                        final_response = json.loads(extracted_json_content)
                        print(f"Agent:任务完成,生成解析最终的 JSON 文案！")
                        return json.dumps(final_response,ensure_ascii=False,indent=2)
                    except Exception as e:
                        print(f"Agent:提取到 json 但是解析失败:{e}")
                        print(f"尝试解析的 json 字符串为\n :{extracted_json_content}")
                        # 解析失败 继续对话
                        messages.append(response_message)
            else:
                print("Agent : 未知异常,可能需要更多交互！")

        except Exception as e:
            print(f"调用 DeepSeek API 时发生错误: {e}")
            break
    print("\n Agent 达到最大迭代次数或未能生成最终文案、请检查 Prompt或增加迭代次数。")
    return "未能生成最终文案！"






# 测试案例1 : 深海蓝藻保湿面膜
product_name_1 = "深海蓝藻保湿面膜"
tone_style_1 = "活泼甜美"
result_1 = generate_redbook_note(product_name_1,tone_style_1)
print("\n--- 生成的文案 1 ---")
print(result_1)


# 测试案例 2: 美白精华
product_name_2 = "美白精华"
tone_style_2 = "知性温柔"
result_2 = generate_redbook_note(product_name_2, tone_style_2,10)

print("\n--- 生成的文案 2 ---")
print(result_2)





import json
def format_rednote_for_markdown(json_string:str)->str:
    """
    将 JSON 格式的小红书文案转换成markdown 格式，以便阅读和发布。
    :param json_string: 包含小红书文案的 JSON 字符串。 格式为 {"title": "...", "body": "...", "hashtags": [...], "emojis": [...]}
    :return:
    """
    try:
        data = json.loads(json_string)
    except Exception as e:
        return f"无法解析 json 字符串 异常为:{e} \n 原始字符串为：{json_string}"
    # 获取标题、内容、标签
    title = data.get("title", "无标题")
    body = data.get("body", "")
    hashtags = data.get("hashtags", [])
    # 表情符号通常已经融入标题和正文中，这里可以选择是否单独列出
    emojis = data.get("emojis", [])
    # 构建 markdown 文本
    # 标题构建为二级标题
    markdown_output = f"## {title} \n\n"
    # 构建正文部分 保留换行符
    markdown_content = f"{body} \n\n"
    markdown_emoji= ""
    markdown_hashtag = ""
    # 构建标签
    if hashtags:
        # 小红书标签通常以空格分隔
        markdown_hashtag =  " ".join(hashtags)

    # 如果需要,可以单独列出 emoji 表情，但是通常已经包含在标题和正文中
    if emojis:
        emoji_string =  "".join(emojis)
        markdown_emoji = emoji_string
    markdown_output+=markdown_content
    markdown_output+=markdown_hashtag
    markdown_output+=markdown_emoji
    # 去掉末尾多余的空白
    return markdown_output.strip()



# --- 示例使用 ---
# 假设这是 generate_rednote 函数的输出
generated_json_output = """
{
  "title": "✨ 28天逆袭冷白皮！这款美白精华让我告别暗沉痘印 🌟",
  "body": "姐妹们！我终于找到了我的本命美白精华！💖\\n\\n作为一个常年熬夜➕痘印困扰的混油皮，肤色暗沉一直是我的心头大患。直到遇见了这款美白精华，简直打开了新世界的大门！🤩\\n\\n🌟 核心成分：烟酰胺+VC衍生物，双管齐下，提亮肤色效果绝绝子！\\n💧 质地轻薄到爆炸，上脸秒吸收，完全不会黏腻，油皮姐妹放心冲！\\n🌿 用了28天，痘印肉眼可见变淡了，整张脸都透亮了起来，素颜也能打！\\n\\n使用方法也很简单：早晚洁面后，滴2-3滴在手心，轻轻按压上脸，后续再叠加保湿产品就OK啦～\\n\\n真心推荐给所有想要均匀肤色、告别暗沉的姐妹！入股不亏！💖",
  "hashtags": ["#美白精华", "#提亮肤色", "#淡化痘印", "#护肤好物", "#冷白皮"],
  "emojis": ["✨", "💖", "🤩", "💧", "🌿"]
}
"""

# 调用格式化函数
markdown_note = format_rednote_for_markdown(generated_json_output)

# 打印结果
print("--- 格式化后的小红书文案 (Markdown) ---")
print(markdown_note)

# --- 另一个例子，假设JSON解析失败 ---
invalid_json_output = "{'title': 'Test', 'body': 'This is not valid json'}" # 使用单引号，非法
markdown_error_note = format_rednote_for_markdown(invalid_json_output)
print("\n--- 格式化错误示例 ---")
print(markdown_error_note)













