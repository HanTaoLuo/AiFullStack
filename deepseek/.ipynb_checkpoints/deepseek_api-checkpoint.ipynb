{
 "cells": [
  {
   "cell_type": "code",
   "execution_count": 6,
   "id": "initial_id",
   "metadata": {
    "ExecuteTime": {
     "end_time": "2025-06-22T06:55:31.440606Z",
     "start_time": "2025-06-22T06:55:31.437120Z"
    }
   },
   "outputs": [],
   "source": [
    "import os\n",
    "\n",
    "from IPython.core.debugger import prompt\n",
    "from openai import OpenAI\n",
    "from sympy import false\n",
    "#  v1 指的是 api 版本\n",
    "deepseek_api_base_address=\"https://api.deepseek.com/v1\"\n",
    "api_key = os.getenv(\"DEEPSEEK_API_KEY\")\n",
    "if not api_key:\n",
    "    raise ValueError(\"获取 DEEPSEEK_API_KEY 环境变量失败\")\n",
    "\n",
    "client = OpenAI(\n",
    "    api_key=api_key,\n",
    "    base_url=deepseek_api_base_address\n",
    ")\n",
    "prompt = \"\"\"请帮我使用纯 html 生成一个五子棋游戏 要求带悔棋功能，生成的所有代码都保存在一个 HTML 文件中。\"\"\"\n",
    "\n"
   ]
  },
  {
   "cell_type": "code",
   "execution_count": 8,
   "id": "8da83a7de3165be0",
   "metadata": {},
   "outputs": [
    {
     "name": "stdout",
     "output_type": "stream",
     "text": [
      "文件生成成功 文件名为Gomoku.html\n"
     ]
    }
   ],
   "source": [
    "# 定义 deepseek 模型类型\n",
    "model_type = \"deepseek-chat\"\n",
    "#定义大模型角色 放在 system下\n",
    "system_role={\"role\":\"system\",\"content\":\"你是一个专业 web 开发助手，擅长 HTML/CSS/JavaScript 编写小游戏\"}\n",
    "# deepseek  docs  提示库：https://api-docs.deepseek.com/zh-cn/prompt-library/\n",
    "# 用户期望模型干的事儿 放在 user 下\n",
    "user_role={\"role\":\"user\",\"content\":prompt}\n",
    "local_html_save_path = \"Gomoku.html\"\n",
    "try:\n",
    "    response=client.chat.completions.create(\n",
    "        model=model_type,\n",
    "        messages=[\n",
    "            system_role,\n",
    "            user_role\n",
    "        ],\n",
    "        temperature=0.7,\n",
    "        stream=False\n",
    "    )\n",
    "    # 提取生成的 html 内容 response.choices 表示模型回答结果  回答结果可能有多个\n",
    "    if response.choices and len(response.choices)>0:\n",
    "        html_content = response.choices[0].message.content\n",
    "        with open(local_html_save_path,\"w\",encoding=\"utf-8\") as f:\n",
    "            f.write(html_content)\n",
    "        print(f\"文件生成成功 文件名为{local_html_save_path}\")\n",
    "    else:\n",
    "        print(\"未收到大模型有效响应\")\n",
    "except Exception as e:\n",
    "    print(f\"api 请求异常 原因:{e}\")"
   ]
  },
  {
   "cell_type": "code",
   "execution_count": null,
   "id": "a513bd13-5a21-4e9e-bdf2-f1c0d3582f22",
   "metadata": {},
   "outputs": [],
   "source": []
  }
 ],
 "metadata": {
  "kernelspec": {
   "display_name": "Python [conda env:geekbang_aistack_deepseek]",
   "language": "python",
   "name": "conda-env-geekbang_aistack_deepseek-py"
  },
  "language_info": {
   "codemirror_mode": {
    "name": "ipython",
    "version": 3
   },
   "file_extension": ".py",
   "mimetype": "text/x-python",
   "name": "python",
   "nbconvert_exporter": "python",
   "pygments_lexer": "ipython3",
   "version": "3.13.5"
  }
 },
 "nbformat": 4,
 "nbformat_minor": 5
}
