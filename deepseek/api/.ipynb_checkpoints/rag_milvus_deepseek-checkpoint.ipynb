{
 "cells": [
  {
   "cell_type": "markdown",
   "id": "11036051-9b67-4995-b877-47acae00f5d8",
   "metadata": {
    "collapsed": true,
    "jupyter": {
     "outputs_hidden": true
    }
   },
   "source": [
    "## 使用 Milvus 和 Deepseek 构建 RAG"
   ]
  },
  {
   "cell_type": "code",
   "execution_count": 3,
   "id": "6aecd62b-5ed8-44ff-b5bd-8403c105acd1",
   "metadata": {
    "scrolled": true
   },
   "outputs": [
    {
     "name": "stdout",
     "output_type": "stream",
     "text": [
      "Requirement already satisfied: pymilvus==2.5.10 in /opt/homebrew/anaconda3/envs/geekbang_aistack_deepseek/lib/python3.13/site-packages (from pymilvus[model]==2.5.10) (2.5.10)\n",
      "Requirement already satisfied: openai==1.82.0 in /opt/homebrew/anaconda3/envs/geekbang_aistack_deepseek/lib/python3.13/site-packages (1.82.0)\n",
      "Requirement already satisfied: requests==2.32.3 in /opt/homebrew/anaconda3/envs/geekbang_aistack_deepseek/lib/python3.13/site-packages (2.32.3)\n",
      "Requirement already satisfied: tqdm==4.67.1 in /opt/homebrew/anaconda3/envs/geekbang_aistack_deepseek/lib/python3.13/site-packages (4.67.1)\n",
      "Requirement already satisfied: torch==2.7.0 in /opt/homebrew/anaconda3/envs/geekbang_aistack_deepseek/lib/python3.13/site-packages (2.7.0)\n",
      "Requirement already satisfied: setuptools>69 in /opt/homebrew/anaconda3/envs/geekbang_aistack_deepseek/lib/python3.13/site-packages (from pymilvus==2.5.10->pymilvus[model]==2.5.10) (78.1.1)\n",
      "Requirement already satisfied: grpcio<=1.67.1,>=1.49.1 in /opt/homebrew/anaconda3/envs/geekbang_aistack_deepseek/lib/python3.13/site-packages (from pymilvus==2.5.10->pymilvus[model]==2.5.10) (1.67.1)\n",
      "Requirement already satisfied: protobuf>=3.20.0 in /opt/homebrew/anaconda3/envs/geekbang_aistack_deepseek/lib/python3.13/site-packages (from pymilvus==2.5.10->pymilvus[model]==2.5.10) (6.31.1)\n",
      "Requirement already satisfied: python-dotenv<2.0.0,>=1.0.1 in /opt/homebrew/anaconda3/envs/geekbang_aistack_deepseek/lib/python3.13/site-packages (from pymilvus==2.5.10->pymilvus[model]==2.5.10) (1.1.0)\n",
      "Requirement already satisfied: ujson>=2.0.0 in /opt/homebrew/anaconda3/envs/geekbang_aistack_deepseek/lib/python3.13/site-packages (from pymilvus==2.5.10->pymilvus[model]==2.5.10) (5.10.0)\n",
      "Requirement already satisfied: pandas>=1.2.4 in /opt/homebrew/anaconda3/envs/geekbang_aistack_deepseek/lib/python3.13/site-packages (from pymilvus==2.5.10->pymilvus[model]==2.5.10) (2.3.0)\n",
      "Requirement already satisfied: milvus-lite>=2.4.0 in /opt/homebrew/anaconda3/envs/geekbang_aistack_deepseek/lib/python3.13/site-packages (from pymilvus==2.5.10->pymilvus[model]==2.5.10) (2.4.12)\n",
      "Requirement already satisfied: anyio<5,>=3.5.0 in /opt/homebrew/anaconda3/envs/geekbang_aistack_deepseek/lib/python3.13/site-packages (from openai==1.82.0) (4.9.0)\n",
      "Requirement already satisfied: distro<2,>=1.7.0 in /opt/homebrew/anaconda3/envs/geekbang_aistack_deepseek/lib/python3.13/site-packages (from openai==1.82.0) (1.9.0)\n",
      "Requirement already satisfied: httpx<1,>=0.23.0 in /opt/homebrew/anaconda3/envs/geekbang_aistack_deepseek/lib/python3.13/site-packages (from openai==1.82.0) (0.28.1)\n",
      "Requirement already satisfied: jiter<1,>=0.4.0 in /opt/homebrew/anaconda3/envs/geekbang_aistack_deepseek/lib/python3.13/site-packages (from openai==1.82.0) (0.10.0)\n",
      "Requirement already satisfied: pydantic<3,>=1.9.0 in /opt/homebrew/anaconda3/envs/geekbang_aistack_deepseek/lib/python3.13/site-packages (from openai==1.82.0) (2.11.7)\n",
      "Requirement already satisfied: sniffio in /opt/homebrew/anaconda3/envs/geekbang_aistack_deepseek/lib/python3.13/site-packages (from openai==1.82.0) (1.3.1)\n",
      "Requirement already satisfied: typing-extensions<5,>=4.11 in /opt/homebrew/anaconda3/envs/geekbang_aistack_deepseek/lib/python3.13/site-packages (from openai==1.82.0) (4.14.0)\n",
      "Requirement already satisfied: charset-normalizer<4,>=2 in /opt/homebrew/anaconda3/envs/geekbang_aistack_deepseek/lib/python3.13/site-packages (from requests==2.32.3) (3.4.2)\n",
      "Requirement already satisfied: idna<4,>=2.5 in /opt/homebrew/anaconda3/envs/geekbang_aistack_deepseek/lib/python3.13/site-packages (from requests==2.32.3) (3.10)\n",
      "Requirement already satisfied: urllib3<3,>=1.21.1 in /opt/homebrew/anaconda3/envs/geekbang_aistack_deepseek/lib/python3.13/site-packages (from requests==2.32.3) (2.5.0)\n",
      "Requirement already satisfied: certifi>=2017.4.17 in /opt/homebrew/anaconda3/envs/geekbang_aistack_deepseek/lib/python3.13/site-packages (from requests==2.32.3) (2025.6.15)\n",
      "Requirement already satisfied: filelock in /opt/homebrew/anaconda3/envs/geekbang_aistack_deepseek/lib/python3.13/site-packages (from torch==2.7.0) (3.18.0)\n",
      "Requirement already satisfied: sympy>=1.13.3 in /opt/homebrew/anaconda3/envs/geekbang_aistack_deepseek/lib/python3.13/site-packages (from torch==2.7.0) (1.14.0)\n",
      "Requirement already satisfied: networkx in /opt/homebrew/anaconda3/envs/geekbang_aistack_deepseek/lib/python3.13/site-packages (from torch==2.7.0) (3.5)\n",
      "Requirement already satisfied: jinja2 in /opt/homebrew/anaconda3/envs/geekbang_aistack_deepseek/lib/python3.13/site-packages (from torch==2.7.0) (3.1.6)\n",
      "Requirement already satisfied: fsspec in /opt/homebrew/anaconda3/envs/geekbang_aistack_deepseek/lib/python3.13/site-packages (from torch==2.7.0) (2025.5.1)\n",
      "Requirement already satisfied: pymilvus.model>=0.3.0 in /opt/homebrew/anaconda3/envs/geekbang_aistack_deepseek/lib/python3.13/site-packages (from pymilvus[model]==2.5.10) (0.3.2)\n",
      "Requirement already satisfied: httpcore==1.* in /opt/homebrew/anaconda3/envs/geekbang_aistack_deepseek/lib/python3.13/site-packages (from httpx<1,>=0.23.0->openai==1.82.0) (1.0.9)\n",
      "Requirement already satisfied: h11>=0.16 in /opt/homebrew/anaconda3/envs/geekbang_aistack_deepseek/lib/python3.13/site-packages (from httpcore==1.*->httpx<1,>=0.23.0->openai==1.82.0) (0.16.0)\n",
      "Requirement already satisfied: annotated-types>=0.6.0 in /opt/homebrew/anaconda3/envs/geekbang_aistack_deepseek/lib/python3.13/site-packages (from pydantic<3,>=1.9.0->openai==1.82.0) (0.7.0)\n",
      "Requirement already satisfied: pydantic-core==2.33.2 in /opt/homebrew/anaconda3/envs/geekbang_aistack_deepseek/lib/python3.13/site-packages (from pydantic<3,>=1.9.0->openai==1.82.0) (2.33.2)\n",
      "Requirement already satisfied: typing-inspection>=0.4.0 in /opt/homebrew/anaconda3/envs/geekbang_aistack_deepseek/lib/python3.13/site-packages (from pydantic<3,>=1.9.0->openai==1.82.0) (0.4.1)\n",
      "Requirement already satisfied: numpy>=1.26.0 in /opt/homebrew/anaconda3/envs/geekbang_aistack_deepseek/lib/python3.13/site-packages (from pandas>=1.2.4->pymilvus==2.5.10->pymilvus[model]==2.5.10) (2.3.1)\n",
      "Requirement already satisfied: python-dateutil>=2.8.2 in /opt/homebrew/anaconda3/envs/geekbang_aistack_deepseek/lib/python3.13/site-packages (from pandas>=1.2.4->pymilvus==2.5.10->pymilvus[model]==2.5.10) (2.9.0.post0)\n",
      "Requirement already satisfied: pytz>=2020.1 in /opt/homebrew/anaconda3/envs/geekbang_aistack_deepseek/lib/python3.13/site-packages (from pandas>=1.2.4->pymilvus==2.5.10->pymilvus[model]==2.5.10) (2025.2)\n",
      "Requirement already satisfied: tzdata>=2022.7 in /opt/homebrew/anaconda3/envs/geekbang_aistack_deepseek/lib/python3.13/site-packages (from pandas>=1.2.4->pymilvus==2.5.10->pymilvus[model]==2.5.10) (2025.2)\n",
      "Requirement already satisfied: transformers>=4.36.0 in /opt/homebrew/anaconda3/envs/geekbang_aistack_deepseek/lib/python3.13/site-packages (from pymilvus.model>=0.3.0->pymilvus[model]==2.5.10) (4.52.4)\n",
      "Requirement already satisfied: onnxruntime in /opt/homebrew/anaconda3/envs/geekbang_aistack_deepseek/lib/python3.13/site-packages (from pymilvus.model>=0.3.0->pymilvus[model]==2.5.10) (1.22.0)\n",
      "Requirement already satisfied: scipy>=1.10.0 in /opt/homebrew/anaconda3/envs/geekbang_aistack_deepseek/lib/python3.13/site-packages (from pymilvus.model>=0.3.0->pymilvus[model]==2.5.10) (1.15.3)\n",
      "Requirement already satisfied: six>=1.5 in /opt/homebrew/anaconda3/envs/geekbang_aistack_deepseek/lib/python3.13/site-packages (from python-dateutil>=2.8.2->pandas>=1.2.4->pymilvus==2.5.10->pymilvus[model]==2.5.10) (1.17.0)\n",
      "Requirement already satisfied: mpmath<1.4,>=1.1.0 in /opt/homebrew/anaconda3/envs/geekbang_aistack_deepseek/lib/python3.13/site-packages (from sympy>=1.13.3->torch==2.7.0) (1.3.0)\n",
      "Requirement already satisfied: huggingface-hub<1.0,>=0.30.0 in /opt/homebrew/anaconda3/envs/geekbang_aistack_deepseek/lib/python3.13/site-packages (from transformers>=4.36.0->pymilvus.model>=0.3.0->pymilvus[model]==2.5.10) (0.33.0)\n",
      "Requirement already satisfied: packaging>=20.0 in /opt/homebrew/anaconda3/envs/geekbang_aistack_deepseek/lib/python3.13/site-packages (from transformers>=4.36.0->pymilvus.model>=0.3.0->pymilvus[model]==2.5.10) (24.2)\n",
      "Requirement already satisfied: pyyaml>=5.1 in /opt/homebrew/anaconda3/envs/geekbang_aistack_deepseek/lib/python3.13/site-packages (from transformers>=4.36.0->pymilvus.model>=0.3.0->pymilvus[model]==2.5.10) (6.0.2)\n",
      "Requirement already satisfied: regex!=2019.12.17 in /opt/homebrew/anaconda3/envs/geekbang_aistack_deepseek/lib/python3.13/site-packages (from transformers>=4.36.0->pymilvus.model>=0.3.0->pymilvus[model]==2.5.10) (2024.11.6)\n",
      "Requirement already satisfied: tokenizers<0.22,>=0.21 in /opt/homebrew/anaconda3/envs/geekbang_aistack_deepseek/lib/python3.13/site-packages (from transformers>=4.36.0->pymilvus.model>=0.3.0->pymilvus[model]==2.5.10) (0.21.1)\n",
      "Requirement already satisfied: safetensors>=0.4.3 in /opt/homebrew/anaconda3/envs/geekbang_aistack_deepseek/lib/python3.13/site-packages (from transformers>=4.36.0->pymilvus.model>=0.3.0->pymilvus[model]==2.5.10) (0.5.3)\n",
      "Requirement already satisfied: hf-xet<2.0.0,>=1.1.2 in /opt/homebrew/anaconda3/envs/geekbang_aistack_deepseek/lib/python3.13/site-packages (from huggingface-hub<1.0,>=0.30.0->transformers>=4.36.0->pymilvus.model>=0.3.0->pymilvus[model]==2.5.10) (1.1.5)\n",
      "Requirement already satisfied: MarkupSafe>=2.0 in /opt/homebrew/anaconda3/envs/geekbang_aistack_deepseek/lib/python3.13/site-packages (from jinja2->torch==2.7.0) (3.0.2)\n",
      "Requirement already satisfied: coloredlogs in /opt/homebrew/anaconda3/envs/geekbang_aistack_deepseek/lib/python3.13/site-packages (from onnxruntime->pymilvus.model>=0.3.0->pymilvus[model]==2.5.10) (15.0.1)\n",
      "Requirement already satisfied: flatbuffers in /opt/homebrew/anaconda3/envs/geekbang_aistack_deepseek/lib/python3.13/site-packages (from onnxruntime->pymilvus.model>=0.3.0->pymilvus[model]==2.5.10) (25.2.10)\n",
      "Requirement already satisfied: humanfriendly>=9.1 in /opt/homebrew/anaconda3/envs/geekbang_aistack_deepseek/lib/python3.13/site-packages (from coloredlogs->onnxruntime->pymilvus.model>=0.3.0->pymilvus[model]==2.5.10) (10.0)\n"
     ]
    }
   ],
   "source": [
    "!pip install \"pymilvus[model]==2.5.10\" openai==1.82.0 requests==2.32.3 tqdm==4.67.1 torch==2.7.0"
   ]
  },
  {
   "cell_type": "markdown",
   "id": "654ae02d-399f-49fd-be29-07615fe34abc",
   "metadata": {},
   "source": [
    "###  1.准备数据集\n",
    "使用 Milvus 文档 2.4.x 中的 FAQ 页面作为我们 RAG 中的私有知识库\n",
    "```bash\n",
    "wget https://github.com/milvus-io/milvus-docs/releases/download/v2.4.6-preview/milvus_docs_2.4.x_en.zip\n",
    "unzip -q milvus_docs_2.4.x_en.zip -d milvus_docs\n",
    "```"
   ]
  },
  {
   "cell_type": "markdown",
   "id": "0b33ce30-64f0-408b-8561-1c502bd1523e",
   "metadata": {},
   "source": [
    "### 2.加载数据和分割文档\n",
    "从 `milvus_docs/en/faq` 文件夹加载所有 markdown 文件。\n",
    "对于每个文档，简单使用 \"# \" 来分割文件中的内容，这样可以大致分离出 markdown 文件中每个主要部分的内容。"
   ]
  },
  {
   "cell_type": "code",
   "execution_count": 6,
   "id": "6c8e581e-ca5e-495d-a0ba-0fda59f557fd",
   "metadata": {
    "ExecuteTime": {
     "end_time": "2025-06-25T13:20:31.398815Z",
     "start_time": "2025-06-25T13:20:31.394652Z"
    }
   },
   "outputs": [],
   "source": [
    "#glob库是Python标准库中用于文件路径匹配的模块，支持通配符模式查找文件 支持递归查找\n",
    "from glob import glob\n",
    "text_line = []\n",
    "file_regex_path = \"../rag_resources/milvus_docs/en/faq/*.md\"\n",
    "for file_path in glob(file_regex_path,recursive=True):\n",
    "    with open(file_path,\"r\") as f:\n",
    "        file_text = f.read()\n",
    "    text_line+=file_text.split(\"# \")"
   ]
  },
  {
   "cell_type": "code",
   "execution_count": 7,
   "id": "99dda915-9f5e-48eb-99e0-017f87636a0b",
   "metadata": {},
   "outputs": [],
   "source": [
    "import os\n",
    "deepseek_key = os.getenv(\"DEEPSEEK_API_KEY\")\n"
   ]
  },
  {
   "cell_type": "code",
   "execution_count": 8,
   "id": "05ff6cb4-80c0-4f6d-80fc-ccfbcc334261",
   "metadata": {},
   "outputs": [],
   "source": [
    "# 准备 LLM 和 Embeding 模型\n",
    "from openai import OpenAI\n",
    "\n",
    "deepseek_api_base_address=\"https://api.deepseek.com/v1\"\n",
    "\n",
    "deepseek_client = OpenAI(\n",
    "    api_key=deepseek_key,\n",
    "    base_url=deepseek_api_base_address\n",
    ")\n"
   ]
  },
  {
   "cell_type": "code",
   "execution_count": 9,
   "id": "05a4642f-c6f6-44b1-8ffe-3e5ed9643dac",
   "metadata": {
    "ExecuteTime": {
     "end_time": "2025-06-25T13:58:54.644794Z",
     "start_time": "2025-06-25T13:58:50.421806Z"
    }
   },
   "outputs": [
    {
     "name": "stderr",
     "output_type": "stream",
     "text": [
      "/opt/homebrew/anaconda3/envs/geekbang_aistack_deepseek/lib/python3.13/site-packages/requests/__init__.py:86: RequestsDependencyWarning: Unable to find acceptable character detection dependency (chardet or charset_normalizer).\n",
      "  warnings.warn(\n",
      "/opt/homebrew/anaconda3/envs/geekbang_aistack_deepseek/lib/python3.13/site-packages/tqdm/auto.py:21: TqdmWarning: IProgress not found. Please update jupyter and ipywidgets. See https://ipywidgets.readthedocs.io/en/stable/user_install.html\n",
      "  from .autonotebook import tqdm as notebook_tqdm\n"
     ]
    }
   ],
   "source": [
    "# 定义 embedding 模型 ，使用 milvus_model 做文本嵌入(embedding)  默认使用 DefaultEmbeddingfunction 为例， 这是一个预训练的轻量embedding 模型\n",
    "from pymilvus import model as milvus_model\n",
    "# 嵌入方法\n",
    "embedding_model = milvus_model.DefaultEmbeddingFunction()"
   ]
  },
  {
   "cell_type": "code",
   "execution_count": 63,
   "id": "6c7719be-66d1-48a0-9d3c-9eaf27cdea0b",
   "metadata": {
    "ExecuteTime": {
     "end_time": "2025-06-25T13:58:55.639185Z",
     "start_time": "2025-06-25T13:58:55.556155Z"
    }
   },
   "outputs": [
    {
     "name": "stdout",
     "output_type": "stream",
     "text": [
      "768\n",
      "[-0.06585765  0.09031744 -0.00271127 -0.0488881   0.00344155 -0.01846086\n",
      "  0.00613829 -0.01427601  0.0023624   0.01040119]\n"
     ]
    }
   ],
   "source": [
    "test_question_list = [\"This is test question\"]\n",
    "# 结果数组为二维数组  第一维的大小与问题个数有关  如果只有一个问题那么第一维大小只有 1  其中第一维度长度只有 1 ，第二维度为高维向量\n",
    "embedding_arr = embedding_model.encode_queries(test_question_list)\n",
    "embedding_vector = embedding_arr[0]\n",
    "embedding_dim = len(embedding_vector)\n",
    "# 向量维度(768维)\n",
    "print(embedding_dim)\n",
    "# 打印向量前 10 个元素\n",
    "print(embedding_vector[:10])"
   ]
  },
  {
   "cell_type": "markdown",
   "id": "d260341c-3a6c-4fbf-aab2-4358951800ec",
   "metadata": {},
   "source": [
    "### 加载数据到 milvus \n",
    "\n",
    "MilvusClient 参数：\n",
    "- 如果 uri 设置为本地文件，调用客户端时候 会使用 milvus-lite (milvus 轻量版 ) 将 所有数据存储到文件中\n",
    "- 生产环境上，可以使用 docker  或者 k8s 搭建 milvus 服务，那url = http://xxxx:19530 作为 uri\n",
    "- 如果使用云服务，例如 zilliz Cloud (Milvus 托管服务) 调整`uri`和`token` 对应  `public endpoint` 和 `API key`"
   ]
  },
  {
   "cell_type": "code",
   "execution_count": 12,
   "id": "79b47b1f-c6bb-4850-849a-1235be2d3281",
   "metadata": {},
   "outputs": [
    {
     "name": "stderr",
     "output_type": "stream",
     "text": [
      "huggingface/tokenizers: The current process just got forked, after parallelism has already been used. Disabling parallelism to avoid deadlocks...\n",
      "To disable this warning, you can either:\n",
      "\t- Avoid using `tokenizers` before the fork if possible\n",
      "\t- Explicitly set the environment variable TOKENIZERS_PARALLELISM=(true | false)\n"
     ]
    }
   ],
   "source": [
    "# 创建collection  collection 等同于关系型数据库表的概念\n",
    "from pymilvus import MilvusClient\n",
    "local_save_file = \"./milvus_demo.db\"\n",
    "collection_name = \"test_rag_collection1\"\n",
    "milvus_client = MilvusClient(uri=local_save_file)\n",
    "if milvus_client.has_collection(collection_name):\n",
    "    milvus_client.drop_collection(collection_name)\n",
    "\n"
   ]
  },
  {
   "cell_type": "markdown",
   "id": "440fa004-ea4c-4a80-8398-ac1412161545",
   "metadata": {},
   "source": [
    "### 创建一个具有指定参数的 collection\n",
    "如果不指定任何字段信息，milvus 会自动创建一个 默认的`id` 字段作为主键，以及一个`vector` 字段来存储向量。一个**保留的** `json`字段用于存储非`schema`定义的字段及其值\n",
    "- `metric_type` :计算向量之间的相似程度的方法\n",
    "  作用：定义如何计算向量之间的相似程度。\n",
    "  例如：`IP` (内积) - 值越大通常越相似；`L2` (欧氏距离) - 值越小越相似；`COSINE` (余弦相似度) - 通常转换为距离，值越小越相似。\n",
    "  选择依据：根据你的嵌入模型的特性和期望的相似性定义来选择。\n",
    "- `consistency_level`：数据一致性级别\n",
    "  作用：定义数据写入后，读取操作能多快看到这些新数据。\n",
    "  例如：\n",
    "   `Strong` (强一致性): 总是读到最新数据，可能稍慢。\n",
    "   `Bounded` (有界过期): 可能读到几秒内旧数据，性能较好 (默认)。\n",
    "   `Session` (会话一致性): 自己写入的自己能立刻读到。\n",
    "   `Eventually` (最终一致性): 最终会读到新数据，但没时间保证，性能最好。\n",
    "  选择依据：在数据实时性要求和系统性能之间做权衡。\n",
    "\n",
    "\n",
    "简单来说：\n",
    " `metric_type`：怎么算相似。\n",
    " `consistency_level`：新数据多久能被读到。"
   ]
  },
  {
   "cell_type": "code",
   "execution_count": 14,
   "id": "a16c056c-8b79-488c-b88d-d9abde4ff455",
   "metadata": {},
   "outputs": [],
   "source": [
    "metric_type=\"IP\"\n",
    "consistency_level = \"Strong\"\n",
    "milvus_client.create_collection(\n",
    "    collection_name=collection_name,\n",
    "    #向量维度 与问题个数无关，只有单个向量的维度有关 bert 模型向量维度 768\n",
    "    dimension=embedding_dim,\n",
    "    # 计算向量相似度方法\n",
    "    metric_type=metric_type,\n",
    "    consistency_level=consistency_level\n",
    ")\n"
   ]
  },
  {
   "cell_type": "markdown",
   "id": "fe78e131-f754-44db-8541-fcf31503d774",
   "metadata": {},
   "source": [
    "### 插入数据\n",
    "遍历文本行，创建 embedding，将数据插入到 milvus 中\n",
    "新添加一个字段`text` 他是在 collection schema 中未定义的字段、它将自动添加到保存的 `json` 动态字段中,该字段在高级别上可以被视为普通字段"
   ]
  },
  {
   "cell_type": "code",
   "execution_count": 16,
   "id": "a98202af-8bbc-44d3-be46-e3636e96a970",
   "metadata": {},
   "outputs": [
    {
     "name": "stdout",
     "output_type": "stream",
     "text": [
      "文本块个数为: 72\n",
      "二维数组 第一维 大小为 :72\n"
     ]
    },
    {
     "name": "stderr",
     "output_type": "stream",
     "text": [
      "huggingface/tokenizers: The current process just got forked, after parallelism has already been used. Disabling parallelism to avoid deadlocks...\n",
      "To disable this warning, you can either:\n",
      "\t- Avoid using `tokenizers` before the fork if possible\n",
      "\t- Explicitly set the environment variable TOKENIZERS_PARALLELISM=(true | false)\n",
      "create embeddings!: 100%|█████████████████████████████████████████████████████████████████████████████████████████████████████| 72/72 [00:00<00:00, 236298.82it/s]\n"
     ]
    },
    {
     "data": {
      "text/plain": [
       "{'insert_count': 72, 'ids': [0, 1, 2, 3, 4, 5, 6, 7, 8, 9, 10, 11, 12, 13, 14, 15, 16, 17, 18, 19, 20, 21, 22, 23, 24, 25, 26, 27, 28, 29, 30, 31, 32, 33, 34, 35, 36, 37, 38, 39, 40, 41, 42, 43, 44, 45, 46, 47, 48, 49, 50, 51, 52, 53, 54, 55, 56, 57, 58, 59, 60, 61, 62, 63, 64, 65, 66, 67, 68, 69, 70, 71], 'cost': 0}"
      ]
     },
     "execution_count": 16,
     "metadata": {},
     "output_type": "execute_result"
    }
   ],
   "source": [
    "# tqdm 为一个可视化的进度条模块\n",
    "from tqdm import tqdm\n",
    "# 定义插入到 milvus 中的数据列表\n",
    "data = []\n",
    "#调用模型 encode_document 将数据encode 成 vector\n",
    "# text_line 中为二维数组，对应第一维 为文本块个数，第二维 为每个文本块映射的 768 维向量\n",
    "doc_embeddings =embedding_model.encode_documents(text_line)\n",
    "text_line_size =  len(text_line)\n",
    "print(f\"文本块个数为: {text_line_size}\")\n",
    "print(f\"二维数组 第一维 大小为 :{len(doc_embeddings)}\")\n",
    "# enumerate() 是 Python 中的一个内置函数，它用于将一个可遍历的数据对象（如列表、元组或字符串）组合为一个索引序列，同时列出数据和数据下标，一般用在 for 循环当中\n",
    "for index,line in enumerate(tqdm(text_line,desc=\"create embeddings!\")):\n",
    "    item={\"id\":index,\"vector\":doc_embeddings[index],\"text\":line}\n",
    "    data.append(item)\n",
    "milvus_client.insert(collection_name=collection_name,data=data)\n"
   ]
  },
  {
   "cell_type": "markdown",
   "id": "12807441-6075-428d-a4a3-d77afd4aea92",
   "metadata": {},
   "source": [
    "# 构建 RAG\n",
    "## 检索查询数据\n",
    "指定一个关于 Milvus 的常见问题。"
   ]
  },
  {
   "cell_type": "code",
   "execution_count": 18,
   "id": "a37e18bf-449e-4573-b2a9-dac995c581a6",
   "metadata": {
    "ExecuteTime": {
     "end_time": "2025-06-25T13:59:15.720700Z",
     "start_time": "2025-06-25T13:59:15.718374Z"
    }
   },
   "outputs": [],
   "source": [
    "question = \"How is data stored in milvus?\""
   ]
  },
  {
   "cell_type": "markdown",
   "id": "ca61343b5c6df375",
   "metadata": {},
   "source": [
    "在构建的 milvus 中搜索该问题，并检索语义上最匹配的前三个结果"
   ]
  },
  {
   "cell_type": "code",
   "execution_count": 20,
   "id": "e522f767-4c2f-419f-a92e-a2e859d872ab",
   "metadata": {
    "ExecuteTime": {
     "end_time": "2025-06-25T13:59:31.842231Z",
     "start_time": "2025-06-25T13:59:31.746691Z"
    }
   },
   "outputs": [],
   "source": [
    "# 将问题转换为嵌入向量\n",
    "question_embedding_vector = embedding_model.encode_queries([question])\n",
    "# 查询参数包含 搜索方式  搜索方式和文档写入 milvus 的方式要保持一致 否则会搜索不精准\n",
    "search_params={\"metric_type\":\"IP\",\"params\":{}}\n",
    "# milvus 返回的字段\n",
    "output_fields  = [\"text\"]\n",
    "search_result = milvus_client.search(\n",
    "    collection_name=collection_name,\n",
    "    # data 指的是 query 的问题 vector\n",
    "    data=question_embedding_vector,\n",
    "    limit=3, # 返回前 3 个 结果,\n",
    "    search_params=search_params,\n",
    "    output_fields=output_fields\n",
    ")\n"
   ]
  },
  {
   "cell_type": "code",
   "execution_count": 37,
   "id": "8e98cfe2ea1184ba",
   "metadata": {},
   "outputs": [
    {
     "name": "stdout",
     "output_type": "stream",
     "text": [
      "1\n",
      "[\n",
      "    [\n",
      "        \" Where does Milvus store data?\\n\\nMilvus deals with two types of data, inserted data and metadata. \\n\\nInserted data, including vector data, scalar data, and collection-specific schema, are stored in persistent storage as incremental log. Milvus supports multiple object storage backends, including [MinIO](https://min.io/), [AWS S3](https://aws.amazon.com/s3/?nc1=h_ls), [Google Cloud Storage](https://cloud.google.com/storage?hl=en#object-storage-for-companies-of-all-sizes) (GCS), [Azure Blob Storage](https://azure.microsoft.com/en-us/products/storage/blobs), [Alibaba Cloud OSS](https://www.alibabacloud.com/product/object-storage-service), and [Tencent Cloud Object Storage](https://www.tencentcloud.com/products/cos) (COS).\\n\\nMetadata are generated within Milvus. Each Milvus module has its own metadata that are stored in etcd.\\n\\n###\",\n",
      "        0.6572663187980652\n",
      "    ],\n",
      "    [\n",
      "        \"How does Milvus flush data?\\n\\nMilvus returns success when inserted data are loaded to the message queue. However, the data are not yet flushed to the disk. Then Milvus' data node writes the data in the message queue to persistent storage as incremental logs. If `flush()` is called, the data node is forced to write all data in the message queue to persistent storage immediately.\\n\\n###\",\n",
      "        0.6312143206596375\n",
      "    ],\n",
      "    [\n",
      "        \"How does Milvus handle vector data types and precision?\\n\\nMilvus supports Binary, Float32, Float16, and BFloat16 vector types.\\n\\n- Binary vectors: Store binary data as sequences of 0s and 1s, used in image processing and information retrieval.\\n- Float32 vectors: Default storage with a precision of about 7 decimal digits. Even Float64 values are stored with Float32 precision, leading to potential precision loss upon retrieval.\\n- Float16 and BFloat16 vectors: Offer reduced precision and memory usage. Float16 is suitable for applications with limited bandwidth and storage, while BFloat16 balances range and efficiency, commonly used in deep learning to reduce computational requirements without significantly impacting accuracy.\\n\\n###\",\n",
      "        0.6115778088569641\n",
      "    ]\n",
      "]\n"
     ]
    }
   ],
   "source": [
    "import json\n",
    "# search_result为 返回 search 到的所有结果，结果为二维数组   第一维只有一个元素。\n",
    "\n",
    "print(len(search_result))\n",
    "\n",
    "retrieved_lines_with_distince = [\n",
    "    (res['entity'][\"text\"],res[\"distance\"]) for res in search_result[0]\n",
    "]\n",
    "# indent：指定缩进的空格数或字符串，用于结构化显示JSON数据\n",
    "print(json.dumps(retrieved_lines_with_distince,indent=4))"
   ]
  },
  {
   "cell_type": "markdown",
   "id": "7d8064b1-cd37-42f2-9d1f-370faf256c5d",
   "metadata": {},
   "source": [
    "milvus 查询返回格式如下： 结果为一个二维数组 第一维只有一个元素\n",
    "```python\n",
    "[\n",
    "    [\n",
    "        {\n",
    "            \"id\": 1024,\n",
    "            \"distance\": 0.96,\n",
    "            \"entity\": {\"query 指定的 且 在milvus中定义的字段\":\"value\"}\n",
    "        },\n",
    "        {\n",
    "            \"id\": 2056,\n",
    "            \"distance\": 0.93,\n",
    "            \"entity\": {\"title\": \"深度学习实战\", \"author\": \"李四\"}\n",
    "        }\n",
    "    ]\n",
    "]\n",
    "```"
   ]
  },
  {
   "cell_type": "code",
   "execution_count": null,
   "id": "02c2e479-9beb-4ac8-a918-a16ba78abc58",
   "metadata": {},
   "outputs": [],
   "source": [
    "### 使用LLM获取RAG响应\n",
    "将检索到的文档转换为字符串格式"
   ]
  },
  {
   "cell_type": "code",
   "execution_count": 39,
   "id": "e9e5366d-4810-4263-8f67-885db933e5c7",
   "metadata": {},
   "outputs": [
    {
     "data": {
      "text/plain": [
       "\" Where does Milvus store data?\\n\\nMilvus deals with two types of data, inserted data and metadata. \\n\\nInserted data, including vector data, scalar data, and collection-specific schema, are stored in persistent storage as incremental log. Milvus supports multiple object storage backends, including [MinIO](https://min.io/), [AWS S3](https://aws.amazon.com/s3/?nc1=h_ls), [Google Cloud Storage](https://cloud.google.com/storage?hl=en#object-storage-for-companies-of-all-sizes) (GCS), [Azure Blob Storage](https://azure.microsoft.com/en-us/products/storage/blobs), [Alibaba Cloud OSS](https://www.alibabacloud.com/product/object-storage-service), and [Tencent Cloud Object Storage](https://www.tencentcloud.com/products/cos) (COS).\\n\\nMetadata are generated within Milvus. Each Milvus module has its own metadata that are stored in etcd.\\n\\n###\\nHow does Milvus flush data?\\n\\nMilvus returns success when inserted data are loaded to the message queue. However, the data are not yet flushed to the disk. Then Milvus' data node writes the data in the message queue to persistent storage as incremental logs. If `flush()` is called, the data node is forced to write all data in the message queue to persistent storage immediately.\\n\\n###\\nHow does Milvus handle vector data types and precision?\\n\\nMilvus supports Binary, Float32, Float16, and BFloat16 vector types.\\n\\n- Binary vectors: Store binary data as sequences of 0s and 1s, used in image processing and information retrieval.\\n- Float32 vectors: Default storage with a precision of about 7 decimal digits. Even Float64 values are stored with Float32 precision, leading to potential precision loss upon retrieval.\\n- Float16 and BFloat16 vectors: Offer reduced precision and memory usage. Float16 is suitable for applications with limited bandwidth and storage, while BFloat16 balances range and efficiency, commonly used in deep learning to reduce computational requirements without significantly impacting accuracy.\\n\\n###\""
      ]
     },
     "execution_count": 39,
     "metadata": {},
     "output_type": "execute_result"
    }
   ],
   "source": [
    "context_str = \"\\n\".join(\n",
    "    [line[0] for line in retrieved_lines_with_distince]\n",
    ")\n",
    "context_str"
   ]
  },
  {
   "cell_type": "code",
   "execution_count": 41,
   "id": "501cd155-5dbe-46f8-a304-8c71e113d9a8",
   "metadata": {},
   "outputs": [
    {
     "data": {
      "text/plain": [
       "'How is data stored in milvus?'"
      ]
     },
     "execution_count": 41,
     "metadata": {},
     "output_type": "execute_result"
    }
   ],
   "source": [
    "question"
   ]
  },
  {
   "cell_type": "markdown",
   "id": "bfa683ff-e262-496c-a00e-fa3010ad1096",
   "metadata": {},
   "source": [
    "### 构建 LLM 的系统角色+ 用户提示词(prompt),  这个提示是从 milvus 检索到的文档组装成的。"
   ]
  },
  {
   "cell_type": "code",
   "execution_count": 47,
   "id": "f956e49a-53b4-43c9-9604-6782990c8a5c",
   "metadata": {},
   "outputs": [],
   "source": [
    "SYSTEM_PROMPT=\"\"\"\n",
    "Human : 你是一个 AI 助手、你能从提供的上下文段落片段中和你的知识储备中找到问题的答案\n",
    "\"\"\"\n",
    "\n",
    "USER_PROMPT=f\"\"\"\n",
    "请使用以下用<milvus-search> </milvus-search> 标签括起来的信息片段来回答<question> </question> 标签括起来的问题，最后追加原始回答的中文翻译,并用<translate> 和</translate>进行标记\n",
    "<milvus-search>{context_str} </milvus-search>\n",
    "<question>{question}</question>\n",
    "<translate></translate>\n",
    "\"\"\""
   ]
  },
  {
   "cell_type": "code",
   "execution_count": 49,
   "id": "60d47223-fa95-44f3-a112-cb8e4c440e28",
   "metadata": {},
   "outputs": [
    {
     "data": {
      "text/plain": [
       "\"\\n请使用以下用<milvus-search> </milvus-search> 标签括起来的信息片段来回答<question> </question> 标签括起来的问题，最后追加原始回答的中文翻译,并用<translate> 和</translate>进行标记\\n<milvus-search> Where does Milvus store data?\\n\\nMilvus deals with two types of data, inserted data and metadata. \\n\\nInserted data, including vector data, scalar data, and collection-specific schema, are stored in persistent storage as incremental log. Milvus supports multiple object storage backends, including [MinIO](https://min.io/), [AWS S3](https://aws.amazon.com/s3/?nc1=h_ls), [Google Cloud Storage](https://cloud.google.com/storage?hl=en#object-storage-for-companies-of-all-sizes) (GCS), [Azure Blob Storage](https://azure.microsoft.com/en-us/products/storage/blobs), [Alibaba Cloud OSS](https://www.alibabacloud.com/product/object-storage-service), and [Tencent Cloud Object Storage](https://www.tencentcloud.com/products/cos) (COS).\\n\\nMetadata are generated within Milvus. Each Milvus module has its own metadata that are stored in etcd.\\n\\n###\\nHow does Milvus flush data?\\n\\nMilvus returns success when inserted data are loaded to the message queue. However, the data are not yet flushed to the disk. Then Milvus' data node writes the data in the message queue to persistent storage as incremental logs. If `flush()` is called, the data node is forced to write all data in the message queue to persistent storage immediately.\\n\\n###\\nHow does Milvus handle vector data types and precision?\\n\\nMilvus supports Binary, Float32, Float16, and BFloat16 vector types.\\n\\n- Binary vectors: Store binary data as sequences of 0s and 1s, used in image processing and information retrieval.\\n- Float32 vectors: Default storage with a precision of about 7 decimal digits. Even Float64 values are stored with Float32 precision, leading to potential precision loss upon retrieval.\\n- Float16 and BFloat16 vectors: Offer reduced precision and memory usage. Float16 is suitable for applications with limited bandwidth and storage, while BFloat16 balances range and efficiency, commonly used in deep learning to reduce computational requirements without significantly impacting accuracy.\\n\\n### </milvus-search>\\n<question>How is data stored in milvus?</question>\\n<translate></translate>\\n\""
      ]
     },
     "execution_count": 49,
     "metadata": {},
     "output_type": "execute_result"
    }
   ],
   "source": [
    "USER_PROMPT"
   ]
  },
  {
   "cell_type": "markdown",
   "id": "6db391cd-31e6-49c8-a205-a5740269195e",
   "metadata": {},
   "source": [
    "使用 deepseek 提供的`deepseek-chat` 模型根据 prompt 生成响应"
   ]
  },
  {
   "cell_type": "code",
   "execution_count": 56,
   "id": "754a22cc-d316-4b3a-aa9f-381aa4698e57",
   "metadata": {},
   "outputs": [
    {
     "name": "stdout",
     "output_type": "stream",
     "text": [
      "Milvus stores data in two main categories: inserted data and metadata.\n",
      "\n",
      "1. **Inserted Data** (including vector data, scalar data, and collection schemas) is stored as incremental logs in persistent storage. Supported storage backends include:\n",
      "   - MinIO\n",
      "   - AWS S3\n",
      "   - Google Cloud Storage (GCS)\n",
      "   - Azure Blob Storage\n",
      "   - Alibaba Cloud OSS\n",
      "   - Tencent Cloud Object Storage (COS)\n",
      "\n",
      "2. **Metadata** (generated internally by Milvus modules) is stored in etcd.\n",
      "\n",
      "Data flushing occurs asynchronously: after insertion into the message queue, a `flush()` call forces immediate writing to persistent storage.\n",
      "\n",
      "<translate>\n",
      "Milvus以两种主要类型存储数据：插入数据和元数据。\n",
      "\n",
      "1. **插入数据**（包括向量数据、标量数据和集合模式）以增量日志形式存储在持久化存储中，支持的存储后端包括：\n",
      "   - MinIO\n",
      "   - AWS S3\n",
      "   - 谷歌云存储(GCS)\n",
      "   - Azure Blob存储\n",
      "   - 阿里云OSS\n",
      "   - 腾讯云对象存储(COS)\n",
      "\n",
      "2. **元数据**（由Milvus模块内部生成）存储在etcd中。\n",
      "\n",
      "数据刷盘是异步进行的：数据先写入消息队列，调用`flush()`会强制立即写入持久化存储。\n",
      "</translate>\n"
     ]
    }
   ],
   "source": [
    "deepseek_model_type = \"deepseek-chat\"\n",
    "messages= [\n",
    "    {\"role\":\"system\",\"content\":SYSTEM_PROMPT},\n",
    "    {\"role\":\"user\",\"content\":USER_PROMPT}\n",
    "]\n",
    "# chat 表示聊天模型,completions 表示补全\n",
    "response = deepseek_client.chat.completions.create(\n",
    "    model= deepseek_model_type,\n",
    "    messages=messages\n",
    ")\n",
    "print(response.choices[0].message.content)"
   ]
  },
  {
   "cell_type": "code",
   "execution_count": null,
   "id": "9a9ee114-1e84-4398-80fc-a4c7bd753ac3",
   "metadata": {},
   "outputs": [],
   "source": []
  }
 ],
 "metadata": {
  "kernelspec": {
   "display_name": "Python [conda env:geekbang_aistack_deepseek]",
   "language": "python",
   "name": "conda-env-geekbang_aistack_deepseek-py"
  },
  "language_info": {
   "codemirror_mode": {
    "name": "ipython",
    "version": 3
   },
   "file_extension": ".py",
   "mimetype": "text/x-python",
   "name": "python",
   "nbconvert_exporter": "python",
   "pygments_lexer": "ipython3",
   "version": "3.13.5"
  }
 },
 "nbformat": 4,
 "nbformat_minor": 5
}
