{
 "cells": [
  {
   "cell_type": "markdown",
   "id": "11036051-9b67-4995-b877-47acae00f5d8",
   "metadata": {
    "collapsed": true,
    "jupyter": {
     "outputs_hidden": true
    }
   },
   "source": [
    "## 使用 Milvus 和 Deepseek 构建 RAG"
   ]
  },
  {
   "cell_type": "code",
   "execution_count": 3,
   "id": "6aecd62b-5ed8-44ff-b5bd-8403c105acd1",
   "metadata": {
    "scrolled": true
   },
   "outputs": [
    {
     "name": "stdout",
     "output_type": "stream",
     "text": [
      "Requirement already satisfied: pymilvus==2.5.10 in /opt/homebrew/anaconda3/envs/geekbang_aistack_deepseek/lib/python3.13/site-packages (from pymilvus[model]==2.5.10) (2.5.10)\n",
      "Requirement already satisfied: openai==1.82.0 in /opt/homebrew/anaconda3/envs/geekbang_aistack_deepseek/lib/python3.13/site-packages (1.82.0)\n",
      "Requirement already satisfied: requests==2.32.3 in /opt/homebrew/anaconda3/envs/geekbang_aistack_deepseek/lib/python3.13/site-packages (2.32.3)\n",
      "Requirement already satisfied: tqdm==4.67.1 in /opt/homebrew/anaconda3/envs/geekbang_aistack_deepseek/lib/python3.13/site-packages (4.67.1)\n",
      "Requirement already satisfied: torch==2.7.0 in /opt/homebrew/anaconda3/envs/geekbang_aistack_deepseek/lib/python3.13/site-packages (2.7.0)\n",
      "Requirement already satisfied: setuptools>69 in /opt/homebrew/anaconda3/envs/geekbang_aistack_deepseek/lib/python3.13/site-packages (from pymilvus==2.5.10->pymilvus[model]==2.5.10) (78.1.1)\n",
      "Requirement already satisfied: grpcio<=1.67.1,>=1.49.1 in /opt/homebrew/anaconda3/envs/geekbang_aistack_deepseek/lib/python3.13/site-packages (from pymilvus==2.5.10->pymilvus[model]==2.5.10) (1.67.1)\n",
      "Requirement already satisfied: protobuf>=3.20.0 in /opt/homebrew/anaconda3/envs/geekbang_aistack_deepseek/lib/python3.13/site-packages (from pymilvus==2.5.10->pymilvus[model]==2.5.10) (6.31.1)\n",
      "Requirement already satisfied: python-dotenv<2.0.0,>=1.0.1 in /opt/homebrew/anaconda3/envs/geekbang_aistack_deepseek/lib/python3.13/site-packages (from pymilvus==2.5.10->pymilvus[model]==2.5.10) (1.1.0)\n",
      "Requirement already satisfied: ujson>=2.0.0 in /opt/homebrew/anaconda3/envs/geekbang_aistack_deepseek/lib/python3.13/site-packages (from pymilvus==2.5.10->pymilvus[model]==2.5.10) (5.10.0)\n",
      "Requirement already satisfied: pandas>=1.2.4 in /opt/homebrew/anaconda3/envs/geekbang_aistack_deepseek/lib/python3.13/site-packages (from pymilvus==2.5.10->pymilvus[model]==2.5.10) (2.3.0)\n",
      "Requirement already satisfied: milvus-lite>=2.4.0 in /opt/homebrew/anaconda3/envs/geekbang_aistack_deepseek/lib/python3.13/site-packages (from pymilvus==2.5.10->pymilvus[model]==2.5.10) (2.4.12)\n",
      "Requirement already satisfied: anyio<5,>=3.5.0 in /opt/homebrew/anaconda3/envs/geekbang_aistack_deepseek/lib/python3.13/site-packages (from openai==1.82.0) (4.9.0)\n",
      "Requirement already satisfied: distro<2,>=1.7.0 in /opt/homebrew/anaconda3/envs/geekbang_aistack_deepseek/lib/python3.13/site-packages (from openai==1.82.0) (1.9.0)\n",
      "Requirement already satisfied: httpx<1,>=0.23.0 in /opt/homebrew/anaconda3/envs/geekbang_aistack_deepseek/lib/python3.13/site-packages (from openai==1.82.0) (0.28.1)\n",
      "Requirement already satisfied: jiter<1,>=0.4.0 in /opt/homebrew/anaconda3/envs/geekbang_aistack_deepseek/lib/python3.13/site-packages (from openai==1.82.0) (0.10.0)\n",
      "Requirement already satisfied: pydantic<3,>=1.9.0 in /opt/homebrew/anaconda3/envs/geekbang_aistack_deepseek/lib/python3.13/site-packages (from openai==1.82.0) (2.11.7)\n",
      "Requirement already satisfied: sniffio in /opt/homebrew/anaconda3/envs/geekbang_aistack_deepseek/lib/python3.13/site-packages (from openai==1.82.0) (1.3.1)\n",
      "Requirement already satisfied: typing-extensions<5,>=4.11 in /opt/homebrew/anaconda3/envs/geekbang_aistack_deepseek/lib/python3.13/site-packages (from openai==1.82.0) (4.14.0)\n",
      "Requirement already satisfied: charset-normalizer<4,>=2 in /opt/homebrew/anaconda3/envs/geekbang_aistack_deepseek/lib/python3.13/site-packages (from requests==2.32.3) (3.4.2)\n",
      "Requirement already satisfied: idna<4,>=2.5 in /opt/homebrew/anaconda3/envs/geekbang_aistack_deepseek/lib/python3.13/site-packages (from requests==2.32.3) (3.10)\n",
      "Requirement already satisfied: urllib3<3,>=1.21.1 in /opt/homebrew/anaconda3/envs/geekbang_aistack_deepseek/lib/python3.13/site-packages (from requests==2.32.3) (2.5.0)\n",
      "Requirement already satisfied: certifi>=2017.4.17 in /opt/homebrew/anaconda3/envs/geekbang_aistack_deepseek/lib/python3.13/site-packages (from requests==2.32.3) (2025.6.15)\n",
      "Requirement already satisfied: filelock in /opt/homebrew/anaconda3/envs/geekbang_aistack_deepseek/lib/python3.13/site-packages (from torch==2.7.0) (3.18.0)\n",
      "Requirement already satisfied: sympy>=1.13.3 in /opt/homebrew/anaconda3/envs/geekbang_aistack_deepseek/lib/python3.13/site-packages (from torch==2.7.0) (1.14.0)\n",
      "Requirement already satisfied: networkx in /opt/homebrew/anaconda3/envs/geekbang_aistack_deepseek/lib/python3.13/site-packages (from torch==2.7.0) (3.5)\n",
      "Requirement already satisfied: jinja2 in /opt/homebrew/anaconda3/envs/geekbang_aistack_deepseek/lib/python3.13/site-packages (from torch==2.7.0) (3.1.6)\n",
      "Requirement already satisfied: fsspec in /opt/homebrew/anaconda3/envs/geekbang_aistack_deepseek/lib/python3.13/site-packages (from torch==2.7.0) (2025.5.1)\n",
      "Requirement already satisfied: pymilvus.model>=0.3.0 in /opt/homebrew/anaconda3/envs/geekbang_aistack_deepseek/lib/python3.13/site-packages (from pymilvus[model]==2.5.10) (0.3.2)\n",
      "Requirement already satisfied: httpcore==1.* in /opt/homebrew/anaconda3/envs/geekbang_aistack_deepseek/lib/python3.13/site-packages (from httpx<1,>=0.23.0->openai==1.82.0) (1.0.9)\n",
      "Requirement already satisfied: h11>=0.16 in /opt/homebrew/anaconda3/envs/geekbang_aistack_deepseek/lib/python3.13/site-packages (from httpcore==1.*->httpx<1,>=0.23.0->openai==1.82.0) (0.16.0)\n",
      "Requirement already satisfied: annotated-types>=0.6.0 in /opt/homebrew/anaconda3/envs/geekbang_aistack_deepseek/lib/python3.13/site-packages (from pydantic<3,>=1.9.0->openai==1.82.0) (0.7.0)\n",
      "Requirement already satisfied: pydantic-core==2.33.2 in /opt/homebrew/anaconda3/envs/geekbang_aistack_deepseek/lib/python3.13/site-packages (from pydantic<3,>=1.9.0->openai==1.82.0) (2.33.2)\n",
      "Requirement already satisfied: typing-inspection>=0.4.0 in /opt/homebrew/anaconda3/envs/geekbang_aistack_deepseek/lib/python3.13/site-packages (from pydantic<3,>=1.9.0->openai==1.82.0) (0.4.1)\n",
      "Requirement already satisfied: numpy>=1.26.0 in /opt/homebrew/anaconda3/envs/geekbang_aistack_deepseek/lib/python3.13/site-packages (from pandas>=1.2.4->pymilvus==2.5.10->pymilvus[model]==2.5.10) (2.3.1)\n",
      "Requirement already satisfied: python-dateutil>=2.8.2 in /opt/homebrew/anaconda3/envs/geekbang_aistack_deepseek/lib/python3.13/site-packages (from pandas>=1.2.4->pymilvus==2.5.10->pymilvus[model]==2.5.10) (2.9.0.post0)\n",
      "Requirement already satisfied: pytz>=2020.1 in /opt/homebrew/anaconda3/envs/geekbang_aistack_deepseek/lib/python3.13/site-packages (from pandas>=1.2.4->pymilvus==2.5.10->pymilvus[model]==2.5.10) (2025.2)\n",
      "Requirement already satisfied: tzdata>=2022.7 in /opt/homebrew/anaconda3/envs/geekbang_aistack_deepseek/lib/python3.13/site-packages (from pandas>=1.2.4->pymilvus==2.5.10->pymilvus[model]==2.5.10) (2025.2)\n",
      "Requirement already satisfied: transformers>=4.36.0 in /opt/homebrew/anaconda3/envs/geekbang_aistack_deepseek/lib/python3.13/site-packages (from pymilvus.model>=0.3.0->pymilvus[model]==2.5.10) (4.52.4)\n",
      "Requirement already satisfied: onnxruntime in /opt/homebrew/anaconda3/envs/geekbang_aistack_deepseek/lib/python3.13/site-packages (from pymilvus.model>=0.3.0->pymilvus[model]==2.5.10) (1.22.0)\n",
      "Requirement already satisfied: scipy>=1.10.0 in /opt/homebrew/anaconda3/envs/geekbang_aistack_deepseek/lib/python3.13/site-packages (from pymilvus.model>=0.3.0->pymilvus[model]==2.5.10) (1.15.3)\n",
      "Requirement already satisfied: six>=1.5 in /opt/homebrew/anaconda3/envs/geekbang_aistack_deepseek/lib/python3.13/site-packages (from python-dateutil>=2.8.2->pandas>=1.2.4->pymilvus==2.5.10->pymilvus[model]==2.5.10) (1.17.0)\n",
      "Requirement already satisfied: mpmath<1.4,>=1.1.0 in /opt/homebrew/anaconda3/envs/geekbang_aistack_deepseek/lib/python3.13/site-packages (from sympy>=1.13.3->torch==2.7.0) (1.3.0)\n",
      "Requirement already satisfied: huggingface-hub<1.0,>=0.30.0 in /opt/homebrew/anaconda3/envs/geekbang_aistack_deepseek/lib/python3.13/site-packages (from transformers>=4.36.0->pymilvus.model>=0.3.0->pymilvus[model]==2.5.10) (0.33.0)\n",
      "Requirement already satisfied: packaging>=20.0 in /opt/homebrew/anaconda3/envs/geekbang_aistack_deepseek/lib/python3.13/site-packages (from transformers>=4.36.0->pymilvus.model>=0.3.0->pymilvus[model]==2.5.10) (24.2)\n",
      "Requirement already satisfied: pyyaml>=5.1 in /opt/homebrew/anaconda3/envs/geekbang_aistack_deepseek/lib/python3.13/site-packages (from transformers>=4.36.0->pymilvus.model>=0.3.0->pymilvus[model]==2.5.10) (6.0.2)\n",
      "Requirement already satisfied: regex!=2019.12.17 in /opt/homebrew/anaconda3/envs/geekbang_aistack_deepseek/lib/python3.13/site-packages (from transformers>=4.36.0->pymilvus.model>=0.3.0->pymilvus[model]==2.5.10) (2024.11.6)\n",
      "Requirement already satisfied: tokenizers<0.22,>=0.21 in /opt/homebrew/anaconda3/envs/geekbang_aistack_deepseek/lib/python3.13/site-packages (from transformers>=4.36.0->pymilvus.model>=0.3.0->pymilvus[model]==2.5.10) (0.21.1)\n",
      "Requirement already satisfied: safetensors>=0.4.3 in /opt/homebrew/anaconda3/envs/geekbang_aistack_deepseek/lib/python3.13/site-packages (from transformers>=4.36.0->pymilvus.model>=0.3.0->pymilvus[model]==2.5.10) (0.5.3)\n",
      "Requirement already satisfied: hf-xet<2.0.0,>=1.1.2 in /opt/homebrew/anaconda3/envs/geekbang_aistack_deepseek/lib/python3.13/site-packages (from huggingface-hub<1.0,>=0.30.0->transformers>=4.36.0->pymilvus.model>=0.3.0->pymilvus[model]==2.5.10) (1.1.5)\n",
      "Requirement already satisfied: MarkupSafe>=2.0 in /opt/homebrew/anaconda3/envs/geekbang_aistack_deepseek/lib/python3.13/site-packages (from jinja2->torch==2.7.0) (3.0.2)\n",
      "Requirement already satisfied: coloredlogs in /opt/homebrew/anaconda3/envs/geekbang_aistack_deepseek/lib/python3.13/site-packages (from onnxruntime->pymilvus.model>=0.3.0->pymilvus[model]==2.5.10) (15.0.1)\n",
      "Requirement already satisfied: flatbuffers in /opt/homebrew/anaconda3/envs/geekbang_aistack_deepseek/lib/python3.13/site-packages (from onnxruntime->pymilvus.model>=0.3.0->pymilvus[model]==2.5.10) (25.2.10)\n",
      "Requirement already satisfied: humanfriendly>=9.1 in /opt/homebrew/anaconda3/envs/geekbang_aistack_deepseek/lib/python3.13/site-packages (from coloredlogs->onnxruntime->pymilvus.model>=0.3.0->pymilvus[model]==2.5.10) (10.0)\n"
     ]
    }
   ],
   "source": [
    "!pip install \"pymilvus[model]==2.5.10\" openai==1.82.0 requests==2.32.3 tqdm==4.67.1 torch==2.7.0"
   ]
  },
  {
   "cell_type": "markdown",
   "id": "654ae02d-399f-49fd-be29-07615fe34abc",
   "metadata": {},
   "source": [
    "###  1.准备数据集\n",
    "使用 Milvus 文档 2.4.x 中的 FAQ 页面作为我们 RAG 中的私有知识库\n",
    "```bash\n",
    "wget https://github.com/milvus-io/milvus-docs/releases/download/v2.4.6-preview/milvus_docs_2.4.x_en.zip\n",
    "unzip -q milvus_docs_2.4.x_en.zip -d milvus_docs\n",
    "```"
   ]
  },
  {
   "cell_type": "markdown",
   "id": "0b33ce30-64f0-408b-8561-1c502bd1523e",
   "metadata": {},
   "source": [
    "### 2.加载数据和分割文档\n",
    "从 `milvus_docs/en/faq` 文件夹加载所有 markdown 文件。\n",
    "对于每个文档，简单使用 \"# \" 来分割文件中的内容，这样可以大致分离出 markdown 文件中每个主要部分的内容。"
   ]
  },
  {
   "cell_type": "code",
   "execution_count": 69,
   "id": "6c8e581e-ca5e-495d-a0ba-0fda59f557fd",
   "metadata": {
    "ExecuteTime": {
     "end_time": "2025-06-25T13:20:31.398815Z",
     "start_time": "2025-06-25T13:20:31.394652Z"
    }
   },
   "outputs": [
    {
     "name": "stdout",
     "output_type": "stream",
     "text": [
      "['---\\nid: operational_faq.md\\nsummary: Find answers to commonly asked questions about operations in Milvus.\\ntitle: Operational FAQ\\n---\\n\\n', 'Operational FAQ\\n\\n<!-- TOC -->\\n\\n\\n<!-- /TOC -->\\n\\n###', 'What if I failed to pull the Milvus Docker image from Docker Hub?\\n\\nIf you failed to pull the Milvus Docker image from Docker Hub, try adding other registry mirrors. \\n\\nUsers from Mainland China can add the URL \"https://registry.docker-cn.com\" to the registry-mirrors array in **/etc.docker/daemon.json**.\\n\\n```\\n{\\n  \"registry-mirrors\": [\"https://registry.docker-cn.com\"]\\n}\\n```\\n\\n###', 'Is Docker the only way to install and run Milvus?\\n\\nDocker is an efficient way to deploy Milvus, but not the only way. You can also deploy Milvus from source code. This requires Ubuntu (18.04 or higher) or CentOS (7 or higher). See [Building Milvus from Source Code](https://github.com/milvus-io/milvus#build-milvus-from-source-code) for more information.\\n\\n###', 'What are the main factors affecting recall?\\n\\nRecall is affected mainly by index type and search parameters.\\n\\nFor FLAT index, Milvus takes an exhaustive scan within a collection, with a 100% return.\\n\\nFor IVF indexes, the nprobe parameter determines the scope of a search within the collection. Increasing nprobe increases the proportion of vectors searched and recall, but diminishes query performance.\\n\\nFor HNSW index, the ef parameter determines the breadth of the graph search. Increasing ef increases the number of points searched on the graph and recall, but diminishes query performance.\\n\\nFor more information, see [Vector Indexing](https://www.zilliz.com/blog/Accelerating-Similarity-Search-on-Really-Big-Data-with-Vector-Indexing).\\n\\n###', 'Why did my changes to the configuration files not take effect?\\n\\nMilvus does not support modification to configuration files during runtime. You must restart Milvus Docker for configuration file changes to take effect.\\n\\n###', 'How do I know if Milvus has started successfully?\\n\\nIf Milvus is started using Docker Compose, run `docker ps` to observe how many Docker containers are running and check if Milvus services started correctly.\\n\\nFor Milvus standalone, you should be able to observe at least three running Docker containers, one being the Milvus service and the other two being etcd management and storage service. For more information, see [Installing Milvus Standalone](install_standalone-docker.md).\\n\\n###', 'Why is the time in the log files different from the system time?\\n\\nThe time difference is usually due to the fact that the host machine does not use Coordinated Universal Time (UTC).\\n\\nThe log files inside the Docker image use UTC by default. If your host machine does not use UTC, this issue may occur.\\n\\n\\n###', 'How do I know if my CPU supports Milvus?\\n\\n{{fragments/cpu_support.md}}\\n\\n###', 'Why does Milvus return `illegal instruction` during startup?\\n\\nMilvus requires your CPU to support a SIMD instruction set: SSE4.2, AVX, AVX2, or AVX512. CPU must support at least one of these to ensure that Milvus operates normally. An `illegal instruction` error returned during startup suggests that your CPU does not support any of the above four instruction sets.\\n\\nSee [CPU’s support for SIMD Instruction Set](prerequisite-docker.md).\\n\\n###', 'Can I install Milvus on Windows?\\n\\nYes. You can install Milvus on Windows either by compiling from source code or from a binary package. \\n\\nSee [Run Milvus on Windows](https://milvus.io/blog/2021-11-19-run-milvus-2.0-on-windows.md) to learn how to install Milvus on Windows.\\n\\n###', 'I got an error when installing pymilvus on Windows. What shall I do?\\n\\nIt is not recommended to install PyMilvus on Windows. But if you have to install PyMilvus on Windows but got an error, try installing it in a [Conda](https://docs.conda.io/projects/conda/en/latest/user-guide/install/index.html) environment. See [Install Milvus SDK](install-pymilvus.md) for more information about how to install PyMilvus in the Conda environment.\\n\\n###', 'Can I deploy Milvus when disconnected from the Internet?\\n\\nYes. You can install Milvus in an offline environment. See [Install Milvus Offline](install_offline-helm.md) for more information.\\n\\n###', \"Where can I find the logs generated by Milvus?\\n\\nThe Milvus log is printed to stout (standard output) and stderr (standard error) by default, however we highly recommend redirecting your log to a persistent volume in production. To do so, update `log.file.rootPath` in **milvus.yaml**. And if you deploy Milvus with `milvus-helm` chart, you also need to enable log persistence first via `--set log.persistence.enabled=true`. \\n\\nIf you didn't change the config, using kubectl logs <pod-name> or docker logs CONTAINER can also help you to find the log.\\n\\n\\n###\", 'Can I create index for a segment before inserting data into it?\\n\\nYes, you can. But we recommend inserting data in batches, each of which should not exceed 256 MB, before indexing each segment.\\n\\n###', 'Can I share an etcd instance among multiple Milvus instances?\\n\\nYes, you can share an etcd instance among multiple Milvus instances. To do so, you need to change `etcd.rootPath` to a separate value for each Milvus instance in the configuration files of each before starting them.\\n\\n###', 'Can I share a Pulsar instance among multiple Milvus instances?\\n\\nYes, you can share a Pulsar instance among multiple Milvus instances. To do so, you can\\n\\n- If multi-tenancy is enabled on your Pulsar instance, consider allocating a separate tenant or namespace for each Milvus instance. To do so, you need to change `pulsar.tenant` or `pulsar.namespace` in the configuration files of your Milvus instances to a unique value for each before starting them.\\n- If you do not plan on enabling multi-tenancy on your Pulsar instance, consider changing `msgChannel.chanNamePrefix.cluster` in the configuration files of your Milvus instances to a unique value for each before starting them.\\n\\n###', 'Can I share a MinIO instance among multiple Milvus instances?\\n\\nYes, you can share a MinIO instance among multiple Milvus instances. To do so, you need to change `minio.rootPath` to a unique value for each Milvus instance in the configuration files of each before starting them.\\n\\n###', 'Still have questions?\\n\\nYou can:\\n\\n- Check out [Milvus](https://github.com/milvus-io/milvus/issues) on GitHub. Feel free to ask questions, share ideas, and help others.\\n- Join our [Milvus Forum](https://discuss.milvus.io/) or [Slack Channel](https://join.slack.com/t/milvusio/shared_invite/enQtNzY1OTQ0NDI3NjMzLWNmYmM1NmNjOTQ5MGI5NDhhYmRhMGU5M2NhNzhhMDMzY2MzNDdlYjM5ODQ5MmE3ODFlYzU3YjJkNmVlNDQ2ZTk) to find support and engage with our open-source community.\\n', '---\\nid: troubleshooting.md\\nsummary: Learn about common issues you may encounter with Milvus and how to overcome them.\\ntitle: Troubleshooting\\n---\\n', 'Troubleshooting\\nThis page lists common issues that may occur when running Milvus, as well as possible troubleshooting tips. Issues on this page fall into the following categories:\\n\\n- [Boot issues](#boot_issues)\\n- [Runtime issues](#runtime_issues)\\n- [API issues](#api_issues)\\n- [etcd crash issues](#etcd_crash_issues)\\n\\n\\n  #', 'Boot issues\\n\\n  Boot errors are usually fatal. Run the following command to view error details:\\n\\n  ```\\n  $ docker logs <your milvus container id>\\n  ```\\n\\n\\n  #', 'Runtime issues\\n\\n  Errors that occur during runtime may cause service breakdown. To troubleshoot this issue, check compatibility between the server and your client before moving forward.\\n\\n\\n  #', 'API issues\\n\\n  These issues occur during API method calls between the Milvus server and your client. They will be returned to the client synchronously or asynchronously.\\n  \\n\\n  #', 'etcd crash issues\\n  \\n  ##', '1. etcd pod pending\\n\\n  The etcd cluster uses pvc by default. StorageClass needs to be preconfigured for the Kubernetes cluster.\\n\\n  ##', '2. etcd pod crash\\n\\n  When an etcd pod crashes with `Error: bad member ID arg (strconv.ParseUint: parsing \"\": invalid syntax), expecting ID in Hex`, you can log into this pod and delete the `/bitnami/etcd/data/member_id` file.\\n\\n  ##', '3. Multiple pods keep crashing while `etcd-0` is still running\\n\\n  You can run the following code if multiple pods keeps crashing while `etcd-0` is still running.\\n  \\n  ```\\n  kubectl scale sts <etcd-sts> --replicas=1\\n  ', 'delete the pvc for etcd-1 and etcd-2\\n  kubectl scale sts <etcd-sts> --replicas=3\\n  ```\\n  \\n  ##', '4. All pods crash\\n  \\n  When all pods crash, try copying the `/bitnami/etcd/data/member/snap/db` file. Use `https://github.com/etcd-io/bbolt` to modify database data.\\n\\n  All Milvus metadata are kept in the `key` bucket. Back up the data in this bucket and run the following commands. Note that the prefix data in the `by-dev/meta/session` file does not require a backup.\\n  \\n  ```\\n  kubectl kubectl scale sts <etcd-sts> --replicas=0\\n  ', 'delete the pvc for etcd-0, etcd-1, etcd-2\\n  kubectl kubectl scale sts <etcd-sts> --replicas=1\\n  ', 'restore the backup data\\n  ```\\n\\n\\n\\n<br/>\\n\\n  If you need help solving a problem, feel free to:\\n\\n  - Join our [Slack channel](https://join.slack.com/t/milvusio/shared_invite/enQtNzY1OTQ0NDI3NjMzLWNmYmM1NmNjOTQ5MGI5NDhhYmRhMGU5M2NhNzhhMDMzY2MzNDdlYjM5ODQ5MmE3ODFlYzU3YjJkNmVlNDQ2ZTk) and reach out for support from the Milvus team.\\n  - [File an Issue](https://github.com/milvus-io/milvus/issues/new/choose) on GitHub that includes details about your problem.\\n\\n', '---\\nid: performance_faq.md\\nsummary: Find answers to frequently asked questions about search performance, performance enhancements, and other performance related issues.\\ntitle: Performance FAQ\\n---\\n\\n', 'Performance FAQ\\n\\n<!-- TOC -->\\n\\n\\n<!-- /TOC -->\\n\\n###', 'How to set `nlist` and `nprobe` for IVF indexes?\\n\\nSetting `nlist` is scenario-specific. As a rule of thumb, the recommended value of `nlist` is `4 × sqrt(n)`, where `n` is the total number of entities in a segment.\\n\\nThe size of each segment is determined by the `datacoord.segment.maxSize` parameter, which is set to 512 MB by default. The total number of entities in a segment n can be estimated by dividing `datacoord.segment.maxSize` by the size of each entity.\\n\\nSetting `nprobe` is specific to the dataset and scenario, and involves a trade-off between accuracy and query performance. We recommend finding the ideal value through repeated experimentation.\\n\\nThe following charts are results from a test running on the sift50m dataset and IVF_SQ8 index, which compares recall and query performance of different `nlist`/`nprobe` pairs.\\n\\n![Accuracy test](../../../assets/accuracy_nlist_nprobe.png \"Accuracy test.\")\\n![Performance test](../../../assets/performance_nlist_nprobe.png \"Performance test.\")\\n\\n###', 'Why do queries sometimes take longer on smaller datasets?\\n\\nQuery operations are conducted on segments. indexes reduce the amount of time it takes to query a segment. If a segment has not been indexed, Milvus resorts to brute-force search on the raw data—drastically increasing query time.\\n\\nTherefore, it usually takes longer to query on a small dataset (collection) because it has not built index. This is because the sizes of its segments have not reached the index-building threshold set by `rootCoord.minSegmentSizeToEnableindex`. Call `create_index()` to force Milvus to index segments that have reached the threshold but not yet been automatically indexed, significantly improving query performance.\\n\\n\\n###', 'What factors impact CPU usage?\\n\\nCPU usage increases when Milvus is building indexes or running queries. In general, index building is CPU intensive except when using Annoy, which runs on a single thread.\\n\\nWhen running queries, CPU usage is affected by `nq` and `nprobe`. When `nq` and `nprobe` are small, concurrency is low and CPU usage stays low.\\n\\n###', 'Does simultaneously inserting data and searching impact query performance?\\n\\nInsert operations are not CPU intensive. However, because new segments may not have reached the threshold for index building, Milvus resorts to brute-force search—significantly impacting query performance.\\n\\nThe `rootcoord.minSegmentSizeToEnableIndex` parameter determines the index-building threshold for a segment, and is set to 1024 rows by default. See [System Configuration](system_configuration.md) for more information.\\n\\n###', 'Still have questions?\\n\\nYou can:\\n\\n- Check out [Milvus](https://github.com/milvus-io/milvus/issues) on GitHub. Feel free to ask questions, share ideas, and help others.\\n- Join our [Slack Channel](https://join.slack.com/t/milvusio/shared_invite/enQtNzY1OTQ0NDI3NjMzLWNmYmM1NmNjOTQ5MGI5NDhhYmRhMGU5M2NhNzhhMDMzY2MzNDdlYjM5ODQ5MmE3ODFlYzU3YjJkNmVlNDQ2ZTk) to find support and engage with our open-source community.\\n', \"---\\nid: product_faq.md\\nsummary: Find answers to frequently asked questions about the world's most advanced vector database.\\ntitle: Product FAQ\\n---\\n\\n\", 'Product FAQ\\n\\n<!-- TOC -->\\n\\n\\n\\n<!-- /TOC -->\\n\\n###', \"How much does Milvus cost?\\n\\nMilvus is a 100% free open-source project.\\n\\nPlease adhere to [Apache License 2.0](http://www.apache.org/licenses/LICENSE-2.0) when using Milvus for production or distribution purposes.\\n\\nZilliz, the company behind Milvus, also offers a fully managed cloud version of the platform for those that don't want to build and maintain their own distributed instance. [Zilliz Cloud](https://zilliz.com/cloud) automatically maintains data reliability and allows users to pay only for what they use.\\n\\n###\", 'Does Milvus support non-x86 architectures?\\n\\nMilvus cannot be installed or run on non-x86 platforms.\\n\\nYour CPU must support one of the following instruction sets to run Milvus: SSE4.2, AVX, AVX2, AVX512. These are all x86-dedicated SIMD instruction sets.\\n\\n###', 'What is the maximum dataset size Milvus can handle?\\n\\n  \\nTheoretically, the maximum dataset size Milvus can handle is determined by the hardware it is run on, specifically system memory and storage:\\n\\n- Milvus loads all specified collections and partitions into memory before running queries. Therefore, memory size determines the maximum amount of data Milvus can query.\\n- When new entities and and collection-related schema (currently only MinIO is supported for data persistence) are added to Milvus, system storage determines the maximum allowable size of inserted data.\\n\\n###', ' Where does Milvus store data?\\n\\nMilvus deals with two types of data, inserted data and metadata. \\n\\nInserted data, including vector data, scalar data, and collection-specific schema, are stored in persistent storage as incremental log. Milvus supports multiple object storage backends, including [MinIO](https://min.io/), [AWS S3](https://aws.amazon.com/s3/?nc1=h_ls), [Google Cloud Storage](https://cloud.google.com/storage?hl=en#object-storage-for-companies-of-all-sizes) (GCS), [Azure Blob Storage](https://azure.microsoft.com/en-us/products/storage/blobs), [Alibaba Cloud OSS](https://www.alibabacloud.com/product/object-storage-service), and [Tencent Cloud Object Storage](https://www.tencentcloud.com/products/cos) (COS).\\n\\nMetadata are generated within Milvus. Each Milvus module has its own metadata that are stored in etcd.\\n\\n###', 'Why is there no vector data in etcd?\\n\\netcd stores Milvus module metadata; MinIO stores entities.\\n\\n###', 'Does Milvus support inserting and searching data simultaneously?\\n\\nYes. Insert operations and query operations are handled by two separate modules that are mutually independent. From the client’s perspective, an insert operation is complete when the inserted data enters the message queue. However, inserted data are unsearchable until they are loaded to the query node. If the segment size does not reach the index-building threshold (512 MB by default), Milvus resorts to brute-force search and query performance may be diminished.\\n\\n###', 'Can vectors with duplicate primary keys be inserted into Milvus?\\n\\nYes. Milvus does not check if vector primary keys are duplicates.\\n\\n###', \"When vectors with duplicate primary keys are inserted, does Milvus treat it as an update operation?\\n\\nNo. Milvus does not currently support update operations and does not check if entity primary keys are duplicates. You are responsible for ensuring entity primary keys are unique, and if they aren't Milvus may contain multiple entities with duplicate primary keys.\\n\\nIf this occurs, which data copy will return when queried remains an unknown behavior. This limitation will be fixed in future releases.\\n\\n###\", 'What is the maximum length of self-defined entity primary keys?\\n\\nEntity primary keys must be non-negative 64-bit integers.\\n\\n###', 'What is the maximum amount of data that can be added per insert operation?\\n\\nAn insert operation must not exceed 1,024 MB in size. This is a limit imposed by gRPC.\\n\\n###', 'Does collection size impact query performance when searching in a specific partition?\\n\\nNo. If partitions for a search are specified, Milvus searches the specified partitions only.\\n\\n###', 'Does Milvus load the entire collection when partitions are specified for a search?\\n\\nNo. Milvus has varied behavior. Data must be loaded to memory before searching.\\n\\n- If you know which partitions your data are located in, call `load_partition()` to load the intended partition(s) *then* specify partition(s) in the `search()` method call.\\n- If you do not know the exact partitions, call `load_collection()` before calling `search()`.\\n- If you fail to load collections or partitions before searching, Milvus returns an error.\\n\\n###', 'Can indexes be created after inserting vectors?\\n\\nYes. If an index has been built for a collection by `create_index()` before, Milvus will automatically build an index for subsequently inserted vectors. However, Milvus does not build an index until the newly inserted vectors fill an entire segment and the newly created index file is separate from the previous one.\\n\\n###', 'How are the FLAT and IVF_FLAT indexes different?\\n\\nThe IVF_FLAT index divides vector space into list clusters. At the default list value of 16,384, Milvus compares the distances between the target vector and the centroids of all 16,384 clusters to return probe nearest clusters. Milvus then compares the distances between the target vector and the vectors in the selected clusters to get the nearest vectors. Unlike IVF_FLAT, FLAT directly compares the distances between the target vector and every other vector.\\n\\nWhen the total number of vectors approximately equals nlist, there is little distance between IVF_FLAT and FLAT in terms of calculation requirements and search performance. However, as the number of vectors exceeds nlist by a factor of two or more, IVF_FLAT begins to demonstrate performance advantages.\\n\\nSee [Vector Index](index.md) for more information.\\n\\n###', \"How does Milvus flush data?\\n\\nMilvus returns success when inserted data are loaded to the message queue. However, the data are not yet flushed to the disk. Then Milvus' data node writes the data in the message queue to persistent storage as incremental logs. If `flush()` is called, the data node is forced to write all data in the message queue to persistent storage immediately.\\n\\n###\", 'What is normalization? Why is normalization needed?\\n\\nNormalization refers to the process of converting a vector so that its norm equals 1. If inner product is used to calculate vector similarity, vectors must be normalized. After normalization, inner product equals cosine similarity.\\n\\nSee [Wikipedia](https://en.wikipedia.org/wiki/Unit_vector) for more information.\\n\\n###', 'Why do Euclidean distance (L2) and inner product (IP) return different results?\\n\\nFor normalized vectors, Euclidean distance (L2) is mathematically equivalent to inner product (IP). If these similarity metrics return different results, check to see if your vectors are normalized\\n\\n###', \"Is there a limit to the total number of collections and partitions in Milvus?\\n\\nYes. You can create up to 65,535 collections in a Milvus instance. When calculating the number of existing collections, Milvus counts all collections with shards and partitions in them.\\n\\nFor example, let's assume you have already created 100 collections, with 2 shards and 4 partitions in 60 of them and with 1 shard and 12 partitions in the rest 40 collections. The current number of collections can be calculated as:\\n\\n```\\n60 * 2 * 4 + 40 * 1 * 12 = 960\\n```\\n\\n###\", 'Why do I get fewer than k vectors when searching for `topk` vectors?\\n\\nAmong the indexes that Milvus supports, IVF_FLAT and IVF_SQ8 implement the k-means clustering method. A data space is divided into `nlist` clusters and the inserted vectors are distributed to these clusters. Milvus then selects the `nprobe` nearest clusters and compares the distances between the target vector and all vectors in the selected clusters to return the final results.\\n\\nIf `nlist` and `topk` are large and nprobe is small, the number of vectors in the nprobe clusters may be less than `k`. Therefore, when you search for the `topk` nearest vectors, the number of returned vectors is less than `k`.\\n\\nTo avoid this, try setting `nprobe` larger and `nlist` and `k` smaller.\\n\\nSee [Vector Index](index.md) for more information.\\n\\n###', 'What is the maximum vector dimension supported in Milvus?\\n\\nMilvus can manage vectors with up to 32,768 dimensions by default. You can increase the value of `Proxy.maxDimension` to allow for a larger dimension vector.\\n\\n###', 'Does Milvus support Apple M1 CPU?\\n\\nCurrent Milvus release does not support Apple M1 CPU.\\n\\n###', 'What data types does Milvus support on the primary key field?\\n\\nIn current release, Milvus supports both INT64 and string.\\n\\n###', 'Is Milvus scalable?\\n\\nYes. You can deploy Milvus cluster with multiple nodes via Helm Chart on Kubernetes. Refer to [Scale Guide](scaleout.md) for more instruction.\\n\\n###', 'Does the query perform in memory? What are incremental data and historical data?\\n\\nYes. When a query request comes, Milvus searches both incremental data and historical data by loading them into memory. Incremental data are in the growing segments, which are buffered in memory before they reach the threshold to be persisted in storage engine, while historical data are from the sealed segments that are stored in the object storage. Incremental data and historical data together constitute the whole dataset to search.\\n\\n###', 'Is Milvus available for concurrent search?\\n\\nYes. For queries on the same collection, Milvus concurrently searches the incremental and historical data. However, queries on different collections are conducted in series. Whereas the historical data can be an extremely huge dataset, searches on the historical data are relatively more time-consuming and essentially performed in series.\\n\\n###', 'Why does the data in MinIO remain after the corresponding collection is dropped?\\n\\nData in MinIO is designed to remain for a certain period of time for the convenience of data rollback.\\n\\n###', 'Does Milvus support message engines other than Pulsar?\\n\\nYes. Kafka is supported in Milvus 2.1.0.\\n\\n###', \"What's the difference between a search and a query?\\n\\nIn Milvus, a vector similarity search retrieves vectors based on similarity calculation and vector index acceleration. Unlike a vector similarity search, a vector query retrieves vectors via scalar filtering based on a boolean expression. The boolean expression filters on scalar fields or the primary key field, and it retrieves all results that match the filters. In a query, neither similarity metrics nor vector index is involved.\\n\\n###\", 'Why does a float vector value have a precision of 7 decimal digits in Milvus?\\n\\nMilvus supports storing vectors as Float32 arrays. A Float32 value has a precision of 7 decimal digits. Even with a Float64 value, such as 1.3476964684980388, Milvus stores it as 1.347696. Therefore, when you retrieve such a vector from Milvus, the precision of the Float64 value is lost.\\n\\n###', 'How does Milvus handle vector data types and precision?\\n\\nMilvus supports Binary, Float32, Float16, and BFloat16 vector types.\\n\\n- Binary vectors: Store binary data as sequences of 0s and 1s, used in image processing and information retrieval.\\n- Float32 vectors: Default storage with a precision of about 7 decimal digits. Even Float64 values are stored with Float32 precision, leading to potential precision loss upon retrieval.\\n- Float16 and BFloat16 vectors: Offer reduced precision and memory usage. Float16 is suitable for applications with limited bandwidth and storage, while BFloat16 balances range and efficiency, commonly used in deep learning to reduce computational requirements without significantly impacting accuracy.\\n\\n###', \"Still have questions?\\n\\nYou can:\\n\\n- Check out [Milvus](https://github.com/milvus-io/milvus/issues) on GitHub. You're welcome to raise questions, share ideas, and help others.\\n- Join our [Slack community](https://slack.milvus.io/) to find support and engage with our open-source community.\\n\\n\"]\n"
     ]
    }
   ],
   "source": [
    "#glob库是Python标准库中用于文件路径匹配的模块，支持通配符模式查找文件 支持递归查找\n",
    "from glob import glob\n",
    "text_line = []\n",
    "file_regex_path = \"../rag_resources/milvus_docs/en/faq/*.md\"\n",
    "for file_path in glob(file_regex_path,recursive=True):\n",
    "    with open(file_path,\"r\") as f:\n",
    "        file_text = f.read()\n",
    "    text_line+=file_text.split(\"# \")\n",
    "print(text_line)"
   ]
  },
  {
   "cell_type": "code",
   "execution_count": 7,
   "id": "99dda915-9f5e-48eb-99e0-017f87636a0b",
   "metadata": {},
   "outputs": [],
   "source": [
    "import os\n",
    "deepseek_key = os.getenv(\"DEEPSEEK_API_KEY\")\n"
   ]
  },
  {
   "cell_type": "code",
   "execution_count": 8,
   "id": "05ff6cb4-80c0-4f6d-80fc-ccfbcc334261",
   "metadata": {},
   "outputs": [],
   "source": [
    "# 准备 LLM 和 Embeding 模型\n",
    "from openai import OpenAI\n",
    "\n",
    "deepseek_api_base_address=\"https://api.deepseek.com/v1\"\n",
    "\n",
    "deepseek_client = OpenAI(\n",
    "    api_key=deepseek_key,\n",
    "    base_url=deepseek_api_base_address\n",
    ")\n"
   ]
  },
  {
   "cell_type": "code",
   "execution_count": 9,
   "id": "05a4642f-c6f6-44b1-8ffe-3e5ed9643dac",
   "metadata": {
    "ExecuteTime": {
     "end_time": "2025-06-25T13:58:54.644794Z",
     "start_time": "2025-06-25T13:58:50.421806Z"
    }
   },
   "outputs": [
    {
     "name": "stderr",
     "output_type": "stream",
     "text": [
      "/opt/homebrew/anaconda3/envs/geekbang_aistack_deepseek/lib/python3.13/site-packages/requests/__init__.py:86: RequestsDependencyWarning: Unable to find acceptable character detection dependency (chardet or charset_normalizer).\n",
      "  warnings.warn(\n",
      "/opt/homebrew/anaconda3/envs/geekbang_aistack_deepseek/lib/python3.13/site-packages/tqdm/auto.py:21: TqdmWarning: IProgress not found. Please update jupyter and ipywidgets. See https://ipywidgets.readthedocs.io/en/stable/user_install.html\n",
      "  from .autonotebook import tqdm as notebook_tqdm\n"
     ]
    }
   ],
   "source": [
    "# 定义 embedding 模型 ，使用 milvus_model 做文本嵌入(embedding)  默认使用 DefaultEmbeddingfunction 为例， 这是一个预训练的轻量embedding 模型\n",
    "from pymilvus import model as milvus_model\n",
    "# 嵌入方法\n",
    "embedding_model = milvus_model.DefaultEmbeddingFunction()"
   ]
  },
  {
   "cell_type": "code",
   "execution_count": 63,
   "id": "6c7719be-66d1-48a0-9d3c-9eaf27cdea0b",
   "metadata": {
    "ExecuteTime": {
     "end_time": "2025-06-25T13:58:55.639185Z",
     "start_time": "2025-06-25T13:58:55.556155Z"
    }
   },
   "outputs": [
    {
     "name": "stdout",
     "output_type": "stream",
     "text": [
      "768\n",
      "[-0.06585765  0.09031744 -0.00271127 -0.0488881   0.00344155 -0.01846086\n",
      "  0.00613829 -0.01427601  0.0023624   0.01040119]\n"
     ]
    }
   ],
   "source": [
    "test_question_list = [\"This is test question\"]\n",
    "# 结果数组为二维数组  第一维的大小与问题个数有关  如果只有一个问题那么第一维大小只有 1  其中第一维度长度只有 1 ，第二维度为高维向量\n",
    "embedding_arr = embedding_model.encode_queries(test_question_list)\n",
    "embedding_vector = embedding_arr[0]\n",
    "embedding_dim = len(embedding_vector)\n",
    "# 向量维度(768维)\n",
    "print(embedding_dim)\n",
    "# 打印向量前 10 个元素\n",
    "print(embedding_vector[:10])"
   ]
  },
  {
   "cell_type": "markdown",
   "id": "d260341c-3a6c-4fbf-aab2-4358951800ec",
   "metadata": {},
   "source": [
    "### 加载数据到 milvus \n",
    "\n",
    "MilvusClient 参数：\n",
    "- 如果 uri 设置为本地文件，调用客户端时候 会使用 milvus-lite (milvus 轻量版 ) 将 所有数据存储到文件中\n",
    "- 生产环境上，可以使用 docker  或者 k8s 搭建 milvus 服务，那url = http://xxxx:19530 作为 uri\n",
    "- 如果使用云服务，例如 zilliz Cloud (Milvus 托管服务) 调整`uri`和`token` 对应  `public endpoint` 和 `API key`"
   ]
  },
  {
   "cell_type": "code",
   "execution_count": 12,
   "id": "79b47b1f-c6bb-4850-849a-1235be2d3281",
   "metadata": {},
   "outputs": [
    {
     "name": "stderr",
     "output_type": "stream",
     "text": [
      "huggingface/tokenizers: The current process just got forked, after parallelism has already been used. Disabling parallelism to avoid deadlocks...\n",
      "To disable this warning, you can either:\n",
      "\t- Avoid using `tokenizers` before the fork if possible\n",
      "\t- Explicitly set the environment variable TOKENIZERS_PARALLELISM=(true | false)\n"
     ]
    }
   ],
   "source": [
    "# 创建collection  collection 等同于关系型数据库表的概念\n",
    "from pymilvus import MilvusClient\n",
    "local_save_file = \"./milvus_demo.db\"\n",
    "collection_name = \"test_rag_collection1\"\n",
    "milvus_client = MilvusClient(uri=local_save_file)\n",
    "if milvus_client.has_collection(collection_name):\n",
    "    milvus_client.drop_collection(collection_name)\n",
    "\n"
   ]
  },
  {
   "cell_type": "markdown",
   "id": "440fa004-ea4c-4a80-8398-ac1412161545",
   "metadata": {},
   "source": [
    "### 创建一个具有指定参数的 collection\n",
    "如果不指定任何字段信息，milvus 会自动创建一个 默认的`id` 字段作为主键，以及一个`vector` 字段来存储向量。一个**保留的** `json`字段用于存储非`schema`定义的字段及其值\n",
    "- `metric_type` :计算向量之间的相似程度的方法\n",
    "  作用：定义如何计算向量之间的相似程度。\n",
    "  例如：`IP` (内积) - 值越大通常越相似；`L2` (欧氏距离) - 值越小越相似；`COSINE` (余弦相似度) - 通常转换为距离，值越小越相似。\n",
    "  选择依据：根据你的嵌入模型的特性和期望的相似性定义来选择。\n",
    "- `consistency_level`：数据一致性级别\n",
    "  作用：定义数据写入后，读取操作能多快看到这些新数据。\n",
    "  例如：\n",
    "   `Strong` (强一致性): 总是读到最新数据，可能稍慢。\n",
    "   `Bounded` (有界过期): 可能读到几秒内旧数据，性能较好 (默认)。\n",
    "   `Session` (会话一致性): 自己写入的自己能立刻读到。\n",
    "   `Eventually` (最终一致性): 最终会读到新数据，但没时间保证，性能最好。\n",
    "  选择依据：在数据实时性要求和系统性能之间做权衡。\n",
    "\n",
    "\n",
    "简单来说：\n",
    " `metric_type`：怎么算相似。\n",
    " `consistency_level`：新数据多久能被读到。"
   ]
  },
  {
   "cell_type": "code",
   "execution_count": 65,
   "id": "a16c056c-8b79-488c-b88d-d9abde4ff455",
   "metadata": {},
   "outputs": [],
   "source": [
    "metric_type=\"IP\"\n",
    "consistency_level = \"Strong\"\n",
    "milvus_client.create_collection(\n",
    "    collection_name=collection_name,\n",
    "    #向量维度 与问题个数无关，只有单个向量的维度有关 bert 模型向量维度 768\n",
    "    dimension=embedding_dim,\n",
    "    # 计算向量相似度方法\n",
    "    metric_type=metric_type,\n",
    "    consistency_level=consistency_level\n",
    ")\n"
   ]
  },
  {
   "cell_type": "markdown",
   "id": "fe78e131-f754-44db-8541-fcf31503d774",
   "metadata": {},
   "source": [
    "### 插入数据\n",
    "遍历文本行，创建 embedding，将数据插入到 milvus 中\n",
    "新添加一个字段`text` 他是在 collection schema 中未定义的字段、它将自动添加到保存的 `json` 动态字段中,该字段在高级别上可以被视为普通字段"
   ]
  },
  {
   "cell_type": "code",
   "execution_count": 16,
   "id": "a98202af-8bbc-44d3-be46-e3636e96a970",
   "metadata": {},
   "outputs": [
    {
     "name": "stdout",
     "output_type": "stream",
     "text": [
      "文本块个数为: 72\n",
      "二维数组 第一维 大小为 :72\n"
     ]
    },
    {
     "name": "stderr",
     "output_type": "stream",
     "text": [
      "huggingface/tokenizers: The current process just got forked, after parallelism has already been used. Disabling parallelism to avoid deadlocks...\n",
      "To disable this warning, you can either:\n",
      "\t- Avoid using `tokenizers` before the fork if possible\n",
      "\t- Explicitly set the environment variable TOKENIZERS_PARALLELISM=(true | false)\n",
      "create embeddings!: 100%|█████████████████████████████████████████████████████████████████████████████████████████████████████| 72/72 [00:00<00:00, 236298.82it/s]\n"
     ]
    },
    {
     "data": {
      "text/plain": [
       "{'insert_count': 72, 'ids': [0, 1, 2, 3, 4, 5, 6, 7, 8, 9, 10, 11, 12, 13, 14, 15, 16, 17, 18, 19, 20, 21, 22, 23, 24, 25, 26, 27, 28, 29, 30, 31, 32, 33, 34, 35, 36, 37, 38, 39, 40, 41, 42, 43, 44, 45, 46, 47, 48, 49, 50, 51, 52, 53, 54, 55, 56, 57, 58, 59, 60, 61, 62, 63, 64, 65, 66, 67, 68, 69, 70, 71], 'cost': 0}"
      ]
     },
     "execution_count": 16,
     "metadata": {},
     "output_type": "execute_result"
    }
   ],
   "source": [
    "# tqdm 为一个可视化的进度条模块\n",
    "from tqdm import tqdm\n",
    "# 定义插入到 milvus 中的数据列表\n",
    "data = []\n",
    "#调用模型 encode_document 将数据encode 成 vector\n",
    "# text_line 中为二维数组，对应第一维 为文本块个数，第二维 为每个文本块映射的 768 维向量\n",
    "doc_embeddings =embedding_model.encode_documents(text_line)\n",
    "text_line_size =  len(text_line)\n",
    "print(f\"文本块个数为: {text_line_size}\")\n",
    "print(f\"二维数组 第一维 大小为 :{len(doc_embeddings)}\")\n",
    "# enumerate() 是 Python 中的一个内置函数，它用于将一个可遍历的数据对象（如列表、元组或字符串）组合为一个索引序列，同时列出数据和数据下标，一般用在 for 循环当中\n",
    "for index,line in enumerate(tqdm(text_line,desc=\"create embeddings!\")):\n",
    "    item={\"id\":index,\"vector\":doc_embeddings[index],\"text\":line}\n",
    "    data.append(item)\n",
    "milvus_client.insert(collection_name=collection_name,data=data)\n"
   ]
  },
  {
   "cell_type": "markdown",
   "id": "12807441-6075-428d-a4a3-d77afd4aea92",
   "metadata": {},
   "source": [
    "# 构建 RAG\n",
    "## 检索查询数据\n",
    "指定一个关于 Milvus 的常见问题。"
   ]
  },
  {
   "cell_type": "code",
   "execution_count": 18,
   "id": "a37e18bf-449e-4573-b2a9-dac995c581a6",
   "metadata": {
    "ExecuteTime": {
     "end_time": "2025-06-25T13:59:15.720700Z",
     "start_time": "2025-06-25T13:59:15.718374Z"
    }
   },
   "outputs": [],
   "source": [
    "question = \"How is data stored in milvus?\""
   ]
  },
  {
   "cell_type": "markdown",
   "id": "ca61343b5c6df375",
   "metadata": {},
   "source": [
    "在构建的 milvus 中搜索该问题，并检索语义上最匹配的前三个结果"
   ]
  },
  {
   "cell_type": "code",
   "execution_count": 20,
   "id": "e522f767-4c2f-419f-a92e-a2e859d872ab",
   "metadata": {
    "ExecuteTime": {
     "end_time": "2025-06-25T13:59:31.842231Z",
     "start_time": "2025-06-25T13:59:31.746691Z"
    }
   },
   "outputs": [],
   "source": [
    "# 将问题转换为嵌入向量\n",
    "question_embedding_vector = embedding_model.encode_queries([question])\n",
    "# 查询参数包含 搜索方式  搜索方式和文档写入 milvus 的方式要保持一致 否则会搜索不精准\n",
    "search_params={\"metric_type\":\"IP\",\"params\":{}}\n",
    "# milvus 返回的字段\n",
    "output_fields  = [\"text\"]\n",
    "search_result = milvus_client.search(\n",
    "    collection_name=collection_name,\n",
    "    # data 指的是 query 的问题 vector\n",
    "    data=question_embedding_vector,\n",
    "    limit=3, # 返回前 3 个 结果,\n",
    "    search_params=search_params,\n",
    "    output_fields=output_fields\n",
    ")\n"
   ]
  },
  {
   "cell_type": "code",
   "execution_count": 37,
   "id": "8e98cfe2ea1184ba",
   "metadata": {},
   "outputs": [
    {
     "name": "stdout",
     "output_type": "stream",
     "text": [
      "1\n",
      "[\n",
      "    [\n",
      "        \" Where does Milvus store data?\\n\\nMilvus deals with two types of data, inserted data and metadata. \\n\\nInserted data, including vector data, scalar data, and collection-specific schema, are stored in persistent storage as incremental log. Milvus supports multiple object storage backends, including [MinIO](https://min.io/), [AWS S3](https://aws.amazon.com/s3/?nc1=h_ls), [Google Cloud Storage](https://cloud.google.com/storage?hl=en#object-storage-for-companies-of-all-sizes) (GCS), [Azure Blob Storage](https://azure.microsoft.com/en-us/products/storage/blobs), [Alibaba Cloud OSS](https://www.alibabacloud.com/product/object-storage-service), and [Tencent Cloud Object Storage](https://www.tencentcloud.com/products/cos) (COS).\\n\\nMetadata are generated within Milvus. Each Milvus module has its own metadata that are stored in etcd.\\n\\n###\",\n",
      "        0.6572663187980652\n",
      "    ],\n",
      "    [\n",
      "        \"How does Milvus flush data?\\n\\nMilvus returns success when inserted data are loaded to the message queue. However, the data are not yet flushed to the disk. Then Milvus' data node writes the data in the message queue to persistent storage as incremental logs. If `flush()` is called, the data node is forced to write all data in the message queue to persistent storage immediately.\\n\\n###\",\n",
      "        0.6312143206596375\n",
      "    ],\n",
      "    [\n",
      "        \"How does Milvus handle vector data types and precision?\\n\\nMilvus supports Binary, Float32, Float16, and BFloat16 vector types.\\n\\n- Binary vectors: Store binary data as sequences of 0s and 1s, used in image processing and information retrieval.\\n- Float32 vectors: Default storage with a precision of about 7 decimal digits. Even Float64 values are stored with Float32 precision, leading to potential precision loss upon retrieval.\\n- Float16 and BFloat16 vectors: Offer reduced precision and memory usage. Float16 is suitable for applications with limited bandwidth and storage, while BFloat16 balances range and efficiency, commonly used in deep learning to reduce computational requirements without significantly impacting accuracy.\\n\\n###\",\n",
      "        0.6115778088569641\n",
      "    ]\n",
      "]\n"
     ]
    }
   ],
   "source": [
    "import json\n",
    "# search_result为 返回 search 到的所有结果，结果为二维数组   第一维只有一个元素。\n",
    "\n",
    "print(len(search_result))\n",
    "\n",
    "retrieved_lines_with_distince = [\n",
    "    (res['entity'][\"text\"],res[\"distance\"]) for res in search_result[0]\n",
    "]\n",
    "# indent：指定缩进的空格数或字符串，用于结构化显示JSON数据\n",
    "print(json.dumps(retrieved_lines_with_distince,indent=4))"
   ]
  },
  {
   "cell_type": "markdown",
   "id": "7d8064b1-cd37-42f2-9d1f-370faf256c5d",
   "metadata": {},
   "source": [
    "milvus 查询返回格式如下： 结果为一个二维数组 第一维只有一个元素\n",
    "```python\n",
    "[\n",
    "    [\n",
    "        {\n",
    "            \"id\": 1024,\n",
    "            \"distance\": 0.96,\n",
    "            \"entity\": {\"query 指定的 且 在milvus中定义的字段\":\"value\"}\n",
    "        },\n",
    "        {\n",
    "            \"id\": 2056,\n",
    "            \"distance\": 0.93,\n",
    "            \"entity\": {\"title\": \"深度学习实战\", \"author\": \"李四\"}\n",
    "        }\n",
    "    ]\n",
    "]\n",
    "```"
   ]
  },
  {
   "cell_type": "code",
   "execution_count": null,
   "id": "02c2e479-9beb-4ac8-a918-a16ba78abc58",
   "metadata": {},
   "outputs": [],
   "source": [
    "### 使用LLM获取RAG响应\n",
    "将检索到的文档转换为字符串格式"
   ]
  },
  {
   "cell_type": "code",
   "execution_count": 39,
   "id": "e9e5366d-4810-4263-8f67-885db933e5c7",
   "metadata": {},
   "outputs": [
    {
     "data": {
      "text/plain": [
       "\" Where does Milvus store data?\\n\\nMilvus deals with two types of data, inserted data and metadata. \\n\\nInserted data, including vector data, scalar data, and collection-specific schema, are stored in persistent storage as incremental log. Milvus supports multiple object storage backends, including [MinIO](https://min.io/), [AWS S3](https://aws.amazon.com/s3/?nc1=h_ls), [Google Cloud Storage](https://cloud.google.com/storage?hl=en#object-storage-for-companies-of-all-sizes) (GCS), [Azure Blob Storage](https://azure.microsoft.com/en-us/products/storage/blobs), [Alibaba Cloud OSS](https://www.alibabacloud.com/product/object-storage-service), and [Tencent Cloud Object Storage](https://www.tencentcloud.com/products/cos) (COS).\\n\\nMetadata are generated within Milvus. Each Milvus module has its own metadata that are stored in etcd.\\n\\n###\\nHow does Milvus flush data?\\n\\nMilvus returns success when inserted data are loaded to the message queue. However, the data are not yet flushed to the disk. Then Milvus' data node writes the data in the message queue to persistent storage as incremental logs. If `flush()` is called, the data node is forced to write all data in the message queue to persistent storage immediately.\\n\\n###\\nHow does Milvus handle vector data types and precision?\\n\\nMilvus supports Binary, Float32, Float16, and BFloat16 vector types.\\n\\n- Binary vectors: Store binary data as sequences of 0s and 1s, used in image processing and information retrieval.\\n- Float32 vectors: Default storage with a precision of about 7 decimal digits. Even Float64 values are stored with Float32 precision, leading to potential precision loss upon retrieval.\\n- Float16 and BFloat16 vectors: Offer reduced precision and memory usage. Float16 is suitable for applications with limited bandwidth and storage, while BFloat16 balances range and efficiency, commonly used in deep learning to reduce computational requirements without significantly impacting accuracy.\\n\\n###\""
      ]
     },
     "execution_count": 39,
     "metadata": {},
     "output_type": "execute_result"
    }
   ],
   "source": [
    "context_str = \"\\n\".join(\n",
    "    [line[0] for line in retrieved_lines_with_distince]\n",
    ")\n",
    "context_str"
   ]
  },
  {
   "cell_type": "code",
   "execution_count": 41,
   "id": "501cd155-5dbe-46f8-a304-8c71e113d9a8",
   "metadata": {},
   "outputs": [
    {
     "data": {
      "text/plain": [
       "'How is data stored in milvus?'"
      ]
     },
     "execution_count": 41,
     "metadata": {},
     "output_type": "execute_result"
    }
   ],
   "source": [
    "question"
   ]
  },
  {
   "cell_type": "markdown",
   "id": "bfa683ff-e262-496c-a00e-fa3010ad1096",
   "metadata": {},
   "source": [
    "### 构建 LLM 的系统角色+ 用户提示词(prompt),  这个提示是从 milvus 检索到的文档组装成的。"
   ]
  },
  {
   "cell_type": "code",
   "execution_count": 47,
   "id": "f956e49a-53b4-43c9-9604-6782990c8a5c",
   "metadata": {},
   "outputs": [],
   "source": [
    "SYSTEM_PROMPT=\"\"\"\n",
    "Human : 你是一个 AI 助手、你能从提供的上下文段落片段中和你的知识储备中找到问题的答案\n",
    "\"\"\"\n",
    "\n",
    "USER_PROMPT=f\"\"\"\n",
    "请使用以下用<milvus-search> </milvus-search> 标签括起来的信息片段来回答<question> </question> 标签括起来的问题，最后追加原始回答的中文翻译,并用<translate> 和</translate>进行标记\n",
    "<milvus-search>{context_str} </milvus-search>\n",
    "<question>{question}</question>\n",
    "<translate></translate>\n",
    "\"\"\""
   ]
  },
  {
   "cell_type": "code",
   "execution_count": 49,
   "id": "60d47223-fa95-44f3-a112-cb8e4c440e28",
   "metadata": {},
   "outputs": [
    {
     "data": {
      "text/plain": [
       "\"\\n请使用以下用<milvus-search> </milvus-search> 标签括起来的信息片段来回答<question> </question> 标签括起来的问题，最后追加原始回答的中文翻译,并用<translate> 和</translate>进行标记\\n<milvus-search> Where does Milvus store data?\\n\\nMilvus deals with two types of data, inserted data and metadata. \\n\\nInserted data, including vector data, scalar data, and collection-specific schema, are stored in persistent storage as incremental log. Milvus supports multiple object storage backends, including [MinIO](https://min.io/), [AWS S3](https://aws.amazon.com/s3/?nc1=h_ls), [Google Cloud Storage](https://cloud.google.com/storage?hl=en#object-storage-for-companies-of-all-sizes) (GCS), [Azure Blob Storage](https://azure.microsoft.com/en-us/products/storage/blobs), [Alibaba Cloud OSS](https://www.alibabacloud.com/product/object-storage-service), and [Tencent Cloud Object Storage](https://www.tencentcloud.com/products/cos) (COS).\\n\\nMetadata are generated within Milvus. Each Milvus module has its own metadata that are stored in etcd.\\n\\n###\\nHow does Milvus flush data?\\n\\nMilvus returns success when inserted data are loaded to the message queue. However, the data are not yet flushed to the disk. Then Milvus' data node writes the data in the message queue to persistent storage as incremental logs. If `flush()` is called, the data node is forced to write all data in the message queue to persistent storage immediately.\\n\\n###\\nHow does Milvus handle vector data types and precision?\\n\\nMilvus supports Binary, Float32, Float16, and BFloat16 vector types.\\n\\n- Binary vectors: Store binary data as sequences of 0s and 1s, used in image processing and information retrieval.\\n- Float32 vectors: Default storage with a precision of about 7 decimal digits. Even Float64 values are stored with Float32 precision, leading to potential precision loss upon retrieval.\\n- Float16 and BFloat16 vectors: Offer reduced precision and memory usage. Float16 is suitable for applications with limited bandwidth and storage, while BFloat16 balances range and efficiency, commonly used in deep learning to reduce computational requirements without significantly impacting accuracy.\\n\\n### </milvus-search>\\n<question>How is data stored in milvus?</question>\\n<translate></translate>\\n\""
      ]
     },
     "execution_count": 49,
     "metadata": {},
     "output_type": "execute_result"
    }
   ],
   "source": [
    "USER_PROMPT"
   ]
  },
  {
   "cell_type": "markdown",
   "id": "6db391cd-31e6-49c8-a205-a5740269195e",
   "metadata": {},
   "source": [
    "使用 deepseek 提供的`deepseek-chat` 模型根据 prompt 生成响应"
   ]
  },
  {
   "cell_type": "code",
   "execution_count": 56,
   "id": "754a22cc-d316-4b3a-aa9f-381aa4698e57",
   "metadata": {},
   "outputs": [
    {
     "name": "stdout",
     "output_type": "stream",
     "text": [
      "Milvus stores data in two main categories: inserted data and metadata.\n",
      "\n",
      "1. **Inserted Data** (including vector data, scalar data, and collection schemas) is stored as incremental logs in persistent storage. Supported storage backends include:\n",
      "   - MinIO\n",
      "   - AWS S3\n",
      "   - Google Cloud Storage (GCS)\n",
      "   - Azure Blob Storage\n",
      "   - Alibaba Cloud OSS\n",
      "   - Tencent Cloud Object Storage (COS)\n",
      "\n",
      "2. **Metadata** (generated internally by Milvus modules) is stored in etcd.\n",
      "\n",
      "Data flushing occurs asynchronously: after insertion into the message queue, a `flush()` call forces immediate writing to persistent storage.\n",
      "\n",
      "<translate>\n",
      "Milvus以两种主要类型存储数据：插入数据和元数据。\n",
      "\n",
      "1. **插入数据**（包括向量数据、标量数据和集合模式）以增量日志形式存储在持久化存储中，支持的存储后端包括：\n",
      "   - MinIO\n",
      "   - AWS S3\n",
      "   - 谷歌云存储(GCS)\n",
      "   - Azure Blob存储\n",
      "   - 阿里云OSS\n",
      "   - 腾讯云对象存储(COS)\n",
      "\n",
      "2. **元数据**（由Milvus模块内部生成）存储在etcd中。\n",
      "\n",
      "数据刷盘是异步进行的：数据先写入消息队列，调用`flush()`会强制立即写入持久化存储。\n",
      "</translate>\n"
     ]
    }
   ],
   "source": [
    "deepseek_model_type = \"deepseek-chat\"\n",
    "messages= [\n",
    "    {\"role\":\"system\",\"content\":SYSTEM_PROMPT},\n",
    "    {\"role\":\"user\",\"content\":USER_PROMPT}\n",
    "]\n",
    "# chat 表示聊天模型,completions 表示补全\n",
    "response = deepseek_client.chat.completions.create(\n",
    "    model= deepseek_model_type,\n",
    "    messages=messages\n",
    ")\n",
    "print(response.choices[0].message.content)"
   ]
  },
  {
   "cell_type": "code",
   "execution_count": null,
   "id": "9a9ee114-1e84-4398-80fc-a4c7bd753ac3",
   "metadata": {},
   "outputs": [],
   "source": []
  }
 ],
 "metadata": {
  "kernelspec": {
   "display_name": "Python [conda env:geekbang_aistack_deepseek]",
   "language": "python",
   "name": "conda-env-geekbang_aistack_deepseek-py"
  },
  "language_info": {
   "codemirror_mode": {
    "name": "ipython",
    "version": 3
   },
   "file_extension": ".py",
   "mimetype": "text/x-python",
   "name": "python",
   "nbconvert_exporter": "python",
   "pygments_lexer": "ipython3",
   "version": "3.13.5"
  }
 },
 "nbformat": 4,
 "nbformat_minor": 5
}
