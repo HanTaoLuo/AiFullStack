{
 "cells": [
  {
   "cell_type": "markdown",
   "id": "2d484a04ae75bcd7",
   "metadata": {},
   "source": [
    "### 1.构建民法典数据块及分割文档 成为文档块"
   ]
  },
  {
   "cell_type": "markdown",
   "id": "8456f0734ee00a70",
   "metadata": {},
   "source": [
    "1. **按条款分割**：将每个法律条款作为一个独立的文本块，因为每个条款通常表达一个完整的法律概念或规定。\n",
    "2. **保留层次结构**：在元数据中保留编、章、节等层次信息，方便后续检索时进行筛选。\n",
    "3. **添加上下文**：在每个条款前添加其所属的章节标题，提供必要的上下文信息。\n",
    "4. **处理长条款**：对于特别长的条款（超过一定字数），可以考虑进一步分割成语义完整的段落。\n",
    "5. **元数据丰富**：为每个文本块添加丰富的元数据，包括：\n",
    "   - 编名称（如\"物权编\"、\"合同编\"）\n",
    "   - 章节标题\n",
    "   - 条款编号\n",
    "   - 条款类型（定义、权利、义务等）"
   ]
  },
  {
   "cell_type": "code",
   "execution_count": 3,
   "id": "461060f576d74ebc",
   "metadata": {
    "ExecuteTime": {
     "end_time": "2025-06-25T15:31:43.131744Z",
     "start_time": "2025-06-25T15:31:43.125207Z"
    }
   },
   "outputs": [],
   "source": [
    "import re\n",
    "from typing import List, Dict\n",
    "import json\n",
    "\n",
    "\n",
    "def parse_civil_code(text: str) -> List[str]:\n",
    "    \"\"\"\n",
    "    提取法典的层级结构并切分条文，返回条文JSON字符串列表\n",
    "\n",
    "    返回:\n",
    "        List[str]: 每个条文转换为JSON字符串的列表\n",
    "    \"\"\"\n",
    "    # 定义正则模式\n",
    "    part_pattern = re.compile(r\"##\\s+(.+编)\")\n",
    "    chapter_pattern = re.compile(r\"###\\s+(.+章)\")\n",
    "    section_pattern = re.compile(r\"####\\s+(.+节)\")\n",
    "    article_pattern = re.compile(r\"\\*\\*第([零一二三四五六七八九十百千]+)条\\*\\*\\s*(.+)\")\n",
    "\n",
    "    # 初始化当前层级状态\n",
    "    current_part = \"\"\n",
    "    current_chapter = \"\"\n",
    "    current_section = \"\"\n",
    "\n",
    "    articles = []\n",
    "    current_article = {\"number\": \"\", \"content\": \"\", \"full_text\": \"\"}\n",
    "\n",
    "    # 逐行处理\n",
    "    for line in text.split(\"\\n\"):\n",
    "        line = line.strip()\n",
    "        if not line:\n",
    "            continue\n",
    "\n",
    "        # 1. 识别编\n",
    "        if part_match := part_pattern.match(line):\n",
    "            current_part = part_match.group(1)\n",
    "            current_chapter = \"\"\n",
    "            current_section = \"\"\n",
    "\n",
    "        # 2. 识别章\n",
    "        elif chapter_match := chapter_pattern.match(line):\n",
    "            current_chapter = chapter_match.group(1)\n",
    "            current_section = \"\"\n",
    "\n",
    "        # 3. 识别节\n",
    "        elif section_match := section_pattern.match(line):\n",
    "            current_section = section_match.group(1)\n",
    "\n",
    "        # 4. 识别条文\n",
    "        elif article_match := article_pattern.match(line):\n",
    "            # 保存上一条文（如果有）\n",
    "            if current_article[\"number\"]:\n",
    "                current_article.update({\n",
    "                    \"part\": current_part,\n",
    "                    \"chapter\": current_chapter,\n",
    "                    \"section\": current_section\n",
    "                })\n",
    "                articles.append(json.dumps(current_article, ensure_ascii=False))\n",
    "\n",
    "            # 开始新条文\n",
    "            article_number = article_match.group(1)\n",
    "            article_content = article_match.group(2).strip()\n",
    "            current_article = {\n",
    "                \"number\": f\"第{article_number}条\",\n",
    "                \"content\": article_content,\n",
    "                \"full_text\": article_content,\n",
    "                \"part\": current_part,\n",
    "                \"chapter\": current_chapter,\n",
    "                \"section\": current_section\n",
    "            }\n",
    "\n",
    "        # 5. 条文内容延续\n",
    "        elif current_article[\"number\"]:\n",
    "            # 处理内容延续\n",
    "            current_article[\"full_text\"] += \"\\n\" + line\n",
    "\n",
    "            # 优化内容显示：连接短行\n",
    "            if line.endswith((\"，\", \"；\", \"、\")) or len(current_article[\"content\"].split()[-1]) < 4:\n",
    "                current_article[\"content\"] += line\n",
    "            else:\n",
    "                current_article[\"content\"] += \" \" + line\n",
    "\n",
    "    # 添加最后一条\n",
    "    if current_article[\"number\"]:\n",
    "        articles.append(json.dumps(current_article, ensure_ascii=False))\n",
    "\n",
    "    return articles"
   ]
  },
  {
   "cell_type": "code",
   "execution_count": 4,
   "id": "1542b0dda857030f",
   "metadata": {
    "ExecuteTime": {
     "end_time": "2025-06-25T15:31:43.514662Z",
     "start_time": "2025-06-25T15:31:43.509524Z"
    }
   },
   "outputs": [
    {
     "name": "stdout",
     "output_type": "stream",
     "text": [
      "<class 'str'>\n"
     ]
    }
   ],
   "source": [
    "from glob import glob\n",
    "\n",
    "\n",
    "\n",
    "full_text = \"\"\n",
    "file_path = '../rag_resources/milvus_docs/mfd/*.md'\n",
    "for each_file in glob(file_path,recursive=True):\n",
    "    with open(each_file,'r') as f:\n",
    "        full_text = f.read()\n",
    "text_data = parse_civil_code(full_text)\n",
    "print(type(text_data[0]))"
   ]
  },
  {
   "cell_type": "code",
   "execution_count": 5,
   "id": "c6d26ed8-599d-4ff3-9e17-c7252f3a9b27",
   "metadata": {
    "ExecuteTime": {
     "end_time": "2025-06-25T15:31:45.868882Z",
     "start_time": "2025-06-25T15:31:45.866262Z"
    }
   },
   "outputs": [],
   "source": [
    "import  os\n",
    "deepseek_key = os.getenv(\"DEEPSEEK_API_KEY\")\n",
    "deepseek_url = \"https://api.deepseek.com/v1\""
   ]
  },
  {
   "cell_type": "code",
   "execution_count": 6,
   "id": "790bf1529e93ee4e",
   "metadata": {
    "ExecuteTime": {
     "end_time": "2025-06-25T15:31:46.343789Z",
     "start_time": "2025-06-25T15:31:46.299904Z"
    }
   },
   "outputs": [],
   "source": [
    "# 准备 LLM 和Embedding 模型\n",
    "from openai import OpenAI\n",
    "deepseek_client = OpenAI(\n",
    "    api_key=deepseek_key,\n",
    "    base_url=deepseek_url\n",
    ")"
   ]
  },
  {
   "cell_type": "code",
   "execution_count": 7,
   "id": "cab98c7ec4501489",
   "metadata": {
    "ExecuteTime": {
     "end_time": "2025-06-25T15:31:51.824960Z",
     "start_time": "2025-06-25T15:31:46.780557Z"
    }
   },
   "outputs": [
    {
     "name": "stderr",
     "output_type": "stream",
     "text": [
      "/opt/homebrew/anaconda3/envs/geekbang_aistack_deepseek/lib/python3.13/site-packages/requests/__init__.py:86: RequestsDependencyWarning: Unable to find acceptable character detection dependency (chardet or charset_normalizer).\n",
      "  warnings.warn(\n",
      "/opt/homebrew/anaconda3/envs/geekbang_aistack_deepseek/lib/python3.13/site-packages/tqdm/auto.py:21: TqdmWarning: IProgress not found. Please update jupyter and ipywidgets. See https://ipywidgets.readthedocs.io/en/stable/user_install.html\n",
      "  from .autonotebook import tqdm as notebook_tqdm\n"
     ]
    }
   ],
   "source": [
    "# 定义embedding 模型\n",
    "from pymilvus import model as milvus_model, MilvusClient\n",
    "\n",
    "embedding_model  = milvus_model.DefaultEmbeddingFunction()\n"
   ]
  },
  {
   "cell_type": "code",
   "execution_count": 8,
   "id": "bdaa3e7294156efe",
   "metadata": {
    "ExecuteTime": {
     "end_time": "2025-06-25T15:31:52.390470Z",
     "start_time": "2025-06-25T15:31:52.388633Z"
    }
   },
   "outputs": [],
   "source": [
    "question_list = [\n",
    "    \"民法典中关于房屋买卖合同的规定有哪些\",\n",
    "    \"业主拒缴物业费，物业公司能否以停水停电方式催缴\"\n",
    "]\n"
   ]
  },
  {
   "cell_type": "code",
   "execution_count": 9,
   "id": "d85e6d0336671626",
   "metadata": {
    "ExecuteTime": {
     "end_time": "2025-06-25T15:31:53.076376Z",
     "start_time": "2025-06-25T15:31:52.926438Z"
    }
   },
   "outputs": [
    {
     "name": "stdout",
     "output_type": "stream",
     "text": [
      "2\n"
     ]
    }
   ],
   "source": [
    "embedding_query_arr =embedding_model.encode_queries(question_list)\n",
    "print(len(embedding_query_arr))"
   ]
  },
  {
   "cell_type": "markdown",
   "id": "f17e40d3178a4f90",
   "metadata": {},
   "source": [
    "### 使用 milvus 客户端创建 db"
   ]
  },
  {
   "cell_type": "code",
   "execution_count": 11,
   "id": "d7d3fd669aeffdff",
   "metadata": {
    "ExecuteTime": {
     "end_time": "2025-06-25T15:31:55.484224Z",
     "start_time": "2025-06-25T15:31:55.479507Z"
    }
   },
   "outputs": [
    {
     "name": "stderr",
     "output_type": "stream",
     "text": [
      "huggingface/tokenizers: The current process just got forked, after parallelism has already been used. Disabling parallelism to avoid deadlocks...\n",
      "To disable this warning, you can either:\n",
      "\t- Avoid using `tokenizers` before the fork if possible\n",
      "\t- Explicitly set the environment variable TOKENIZERS_PARALLELISM=(true | false)\n"
     ]
    }
   ],
   "source": [
    "# 创建 milvus collections\n",
    "from pymilvus import MilvusClient\n",
    "mdf_milvus_db_path =\"./mfd.db\"\n",
    "# 对应表名\n",
    "collection_name = \"mfd_collection\"\n",
    "milvus_client = MilvusClient(\n",
    "    uri=mdf_milvus_db_path\n",
    ")\n",
    "if milvus_client.has_collection(collection_name):\n",
    "    milvus_client.drop_collection(collection_name)"
   ]
  },
  {
   "cell_type": "markdown",
   "id": "59a47f58b1ab2b91",
   "metadata": {},
   "source": [
    "### 创建 collection"
   ]
  },
  {
   "cell_type": "code",
   "execution_count": 13,
   "id": "b45e275865e4aecd",
   "metadata": {
    "ExecuteTime": {
     "end_time": "2025-06-26T15:20:36.136034Z",
     "start_time": "2025-06-26T15:20:35.625968Z"
    }
   },
   "outputs": [],
   "source": [
    "metric_type =\"IP\"\n",
    "consistency_level = \"Strong\"\n",
    "# 向量维度，至于单个向量维度有关，单个向量维度视模型而定，bert 模型为 768维\n",
    "dimension_value = len(embedding_query_arr[0])\n",
    "milvus_client.create_collection(\n",
    "    collection_name=collection_name,\n",
    "    dimension=dimension_value,\n",
    "    metric_type=metric_type,\n",
    "    consistency_level = consistency_level\n",
    ")"
   ]
  },
  {
   "cell_type": "markdown",
   "id": "1d4d85bac76cac6e",
   "metadata": {},
   "source": [
    "### 插入数据"
   ]
  },
  {
   "cell_type": "code",
   "execution_count": 15,
   "id": "918c19cf63e004aa",
   "metadata": {
    "ExecuteTime": {
     "end_time": "2025-06-26T15:21:06.656931Z",
     "start_time": "2025-06-26T15:20:40.544698Z"
    }
   },
   "outputs": [
    {
     "name": "stdout",
     "output_type": "stream",
     "text": [
      " 原始文本 list 大小为 :386\n",
      "embedding 成向量后 数组大小为: 386\n"
     ]
    }
   ],
   "source": [
    "from tqdm import  tqdm\n",
    "# print(text_data)\n",
    "data =[]\n",
    "doc_embedding = embedding_model.encode_documents(text_data)\n",
    "print(f\" 原始文本 list 大小为 :{len(text_data)}\")\n",
    "print(f\"embedding 成向量后 数组大小为: {len(doc_embedding)}\")"
   ]
  },
  {
   "cell_type": "code",
   "execution_count": 16,
   "id": "511735f1968edbbc",
   "metadata": {
    "ExecuteTime": {
     "end_time": "2025-06-26T15:21:12.598402Z",
     "start_time": "2025-06-26T15:21:12.556899Z"
    }
   },
   "outputs": [
    {
     "name": "stderr",
     "output_type": "stream",
     "text": [
      "huggingface/tokenizers: The current process just got forked, after parallelism has already been used. Disabling parallelism to avoid deadlocks...\n",
      "To disable this warning, you can either:\n",
      "\t- Avoid using `tokenizers` before the fork if possible\n",
      "\t- Explicitly set the environment variable TOKENIZERS_PARALLELISM=(true | false)\n",
      "insert to collection mfd_collection : 100%|█████████████████████████████████████████████████████████████████████████████████████████████████████| 386/386 [00:00<00:00, 254599.99it/s]\n"
     ]
    },
    {
     "data": {
      "text/plain": [
       "{'insert_count': 386, 'ids': [0, 1, 2, 3, 4, 5, 6, 7, 8, 9, 10, 11, 12, 13, 14, 15, 16, 17, 18, 19, 20, 21, 22, 23, 24, 25, 26, 27, 28, 29, 30, 31, 32, 33, 34, 35, 36, 37, 38, 39, 40, 41, 42, 43, 44, 45, 46, 47, 48, 49, 50, 51, 52, 53, 54, 55, 56, 57, 58, 59, 60, 61, 62, 63, 64, 65, 66, 67, 68, 69, 70, 71, 72, 73, 74, 75, 76, 77, 78, 79, 80, 81, 82, 83, 84, 85, 86, 87, 88, 89, 90, 91, 92, 93, 94, 95, 96, 97, 98, 99, 100, 101, 102, 103, 104, 105, 106, 107, 108, 109, 110, 111, 112, 113, 114, 115, 116, 117, 118, 119, 120, 121, 122, 123, 124, 125, 126, 127, 128, 129, 130, 131, 132, 133, 134, 135, 136, 137, 138, 139, 140, 141, 142, 143, 144, 145, 146, 147, 148, 149, 150, 151, 152, 153, 154, 155, 156, 157, 158, 159, 160, 161, 162, 163, 164, 165, 166, 167, 168, 169, 170, 171, 172, 173, 174, 175, 176, 177, 178, 179, 180, 181, 182, 183, 184, 185, 186, 187, 188, 189, 190, 191, 192, 193, 194, 195, 196, 197, 198, 199, 200, 201, 202, 203, 204, 205, 206, 207, 208, 209, 210, 211, 212, 213, 214, 215, 216, 217, 218, 219, 220, 221, 222, 223, 224, 225, 226, 227, 228, 229, 230, 231, 232, 233, 234, 235, 236, 237, 238, 239, 240, 241, 242, 243, 244, 245, 246, 247, 248, 249, 250, 251, 252, 253, 254, 255, 256, 257, 258, 259, 260, 261, 262, 263, 264, 265, 266, 267, 268, 269, 270, 271, 272, 273, 274, 275, 276, 277, 278, 279, 280, 281, 282, 283, 284, 285, 286, 287, 288, 289, 290, 291, 292, 293, 294, 295, 296, 297, 298, 299, 300, 301, 302, 303, 304, 305, 306, 307, 308, 309, 310, 311, 312, 313, 314, 315, 316, 317, 318, 319, 320, 321, 322, 323, 324, 325, 326, 327, 328, 329, 330, 331, 332, 333, 334, 335, 336, 337, 338, 339, 340, 341, 342, 343, 344, 345, 346, 347, 348, 349, 350, 351, 352, 353, 354, 355, 356, 357, 358, 359, 360, 361, 362, 363, 364, 365, 366, 367, 368, 369, 370, 371, 372, 373, 374, 375, 376, 377, 378, 379, 380, 381, 382, 383, 384, 385], 'cost': 0}"
      ]
     },
     "execution_count": 16,
     "metadata": {},
     "output_type": "execute_result"
    }
   ],
   "source": [
    "### 向 collection 中插入元素\n",
    "tqdm_desc = f\"insert to collection {collection_name} \"\n",
    "for index,line in enumerate(tqdm(text_data,desc=tqdm_desc)):\n",
    "    item={\"id\":index,\"vector\":doc_embedding[index],\"text\":line}\n",
    "    data.append(item)\n",
    "milvus_client.insert(collection_name=collection_name,data=data)\n"
   ]
  },
  {
   "cell_type": "markdown",
   "id": "818a605585a865bd",
   "metadata": {},
   "source": [
    "### 构建 RAG"
   ]
  },
  {
   "cell_type": "code",
   "execution_count": 18,
   "id": "8c10b15c8904652c",
   "metadata": {
    "ExecuteTime": {
     "end_time": "2025-06-26T16:36:19.444712Z",
     "start_time": "2025-06-26T16:35:11.195969Z"
    }
   },
   "outputs": [
    {
     "name": "stdout",
     "output_type": "stream",
     "text": [
      "data: [[{'id': 318, 'distance': 0.3773392140865326, 'entity': {'text': '{\"number\": \"第五百二十二条\", \"content\": \"当事人可以约定，当一方违约时，向另一方支付一定数额的违约金。 约定的违约金低于造成的损失的，人民法院或者仲裁机构可以根据当事人的请求予以增加；约定的违约金过分高于造成的损失的，人民法院或者仲裁机构可以根据当事人的请求予以适当减少。 #### 第二章 合同的履行\", \"full_text\": \"当事人可以约定，当一方违约时，向另一方支付一定数额的违约金。\\\\n约定的违约金低于造成的损失的，人民法院或者仲裁机构可以根据当事人的请求予以增加；约定的违约金过分高于造成的损失的，人民法院或者仲裁机构可以根据当事人的请求予以适当减少。\\\\n#### 第二章 合同的履行\", \"part\": \"\", \"chapter\": \"\", \"section\": \"\"}'}}, {'id': 194, 'distance': 0.3645155131816864, 'entity': {'text': '{\"number\": \"第三百九十八条\", \"content\": \"地役权人有权依照合同约定，利用他人的不动产，以提高自己的不动产的效益。 前款所称他人的不动产为供役地，自己的不动产为需役地。 #### 第四章 担保物权 ##### 第一节 一般规定\", \"full_text\": \"地役权人有权依照合同约定，利用他人的不动产，以提高自己的不动产的效益。\\\\n前款所称他人的不动产为供役地，自己的不动产为需役地。\\\\n#### 第四章 担保物权\\\\n##### 第一节 一般规定\", \"part\": \"\", \"chapter\": \"\", \"section\": \"\"}'}}, {'id': 299, 'distance': 0.3592635691165924, 'entity': {'text': '{\"number\": \"第五百零三条\", \"content\": \"当事人对合同的效力可以约定附条件。 附生效条件的合同，自条件成就时生效。 附解除条件的合同，自条件成就时失效。 当事人为自己的利益不正当地阻止条件成就的，视为条件已经成就；不正当地促成条件成就的，视为条件不成就。\", \"full_text\": \"当事人对合同的效力可以约定附条件。\\\\n附生效条件的合同，自条件成就时生效。\\\\n附解除条件的合同，自条件成就时失效。\\\\n当事人为自己的利益不正当地阻止条件成就的，视为条件已经成就；不正当地促成条件成就的，视为条件不成就。\", \"part\": \"\", \"chapter\": \"\", \"section\": \"\"}'}}], [{'id': 16, 'distance': 0.40003785490989685, 'entity': {'text': '{\"number\": \"第二百二十条\", \"content\": \"权利人、利害关系人认为不动产登记簿记载的事项错误的，可以申请更正登记。不动产登记簿记载的权利人书面同意或者有证据证明登记确有错误的，登记机构应当予以更正。 不动产登记簿记载的权利人不同意更正的，利害关系人可以申请异议登记。登记机构予以异议登记的，申请人在异议登记之日起十五日内不提起诉讼的，异议登记失效。异议登记不当，造成权利人损害的，权利人可以请求损害赔偿。\", \"full_text\": \"权利人、利害关系人认为不动产登记簿记载的事项错误的，可以申请更正登记。不动产登记簿记载的权利人书面同意或者有证据证明登记确有错误的，登记机构应当予以更正。\\\\n不动产登记簿记载的权利人不同意更正的，利害关系人可以申请异议登记。登记机构予以异议登记的，申请人在异议登记之日起十五日内不提起诉讼的，异议登记失效。异议登记不当，造成权利人损害的，权利人可以请求损害赔偿。\", \"part\": \"\", \"chapter\": \"\", \"section\": \"\"}'}}, {'id': 23, 'distance': 0.3961927592754364, 'entity': {'text': '{\"number\": \"第二百二十七条\", \"content\": \"动产物权设立和转让，合同生效时，所有权没有转移，标的物也未交付，标的物由第三人占有的，出让人将返还请求权转让给受让人时，物权自交付时发生效力。 因受让人取得占有的，所有权自交付时发生效力。\", \"full_text\": \"动产物权设立和转让，合同生效时，所有权没有转移，标的物也未交付，标的物由第三人占有的，出让人将返还请求权转让给受让人时，物权自交付时发生效力。\\\\n因受让人取得占有的，所有权自交付时发生效力。\", \"part\": \"\", \"chapter\": \"\", \"section\": \"\"}'}}, {'id': 17, 'distance': 0.3947887420654297, 'entity': {'text': '{\"number\": \"第二百二十一条\", \"content\": \"当事人签订买卖房屋的协议或者签订其他不动产物权的协议，为保障将来实现物权，可以依照约定向登记机构申请预告登记。预告登记后，未经预告登记的权利人同意，处分该不动产的，不发生物权效力。 预告登记后，债权消灭或者自能够进行不动产登记之日起九十日内未申请登记的，预告登记失效。\", \"full_text\": \"当事人签订买卖房屋的协议或者签订其他不动产物权的协议，为保障将来实现物权，可以依照约定向登记机构申请预告登记。预告登记后，未经预告登记的权利人同意，处分该不动产的，不发生物权效力。\\\\n预告登记后，债权消灭或者自能够进行不动产登记之日起九十日内未申请登记的，预告登记失效。\", \"part\": \"\", \"chapter\": \"\", \"section\": \"\"}'}}]]\n"
     ]
    }
   ],
   "source": [
    "query_embedding_vector = embedding_model.encode_queries(question_list)\n",
    "search_params={\"metric_type\":\"IP\",\"params\":{}}\n",
    "# milvus 返回的字段\n",
    "output_fields  = [\"text\"]\n",
    "# 注意查询是使用 client 来进行 search\n",
    "search_result = milvus_client.search(\n",
    "    collection_name=collection_name,\n",
    "    data= query_embedding_vector,\n",
    "    limit = 3,\n",
    "    search_params=search_params,\n",
    "    output_fields=output_fields\n",
    ")\n",
    "print(search_result)\n"
   ]
  },
  {
   "cell_type": "markdown",
   "id": "750994418963f352",
   "metadata": {},
   "source": [
    "### 格式化查询 milvus 的查询结果 封装函数获取问题结果"
   ]
  },
  {
   "cell_type": "code",
   "execution_count": 20,
   "id": "1e38cd6029ce89bd",
   "metadata": {
    "ExecuteTime": {
     "end_time": "2025-06-26T15:49:41.945729Z",
     "start_time": "2025-06-26T15:49:41.942709Z"
    }
   },
   "outputs": [],
   "source": [
    "def get_answer_by_query(query_result):\n",
    "    answer = []\n",
    "    for each_result in query_result:\n",
    "        entity_text = json.loads(each_result[\"entity\"][\"text\"])\n",
    "        answer.append({\n",
    "            \"id\":each_result[\"id\"],\n",
    "            \"distance\":each_result[\"distance\"],\n",
    "            \"text\":entity_text[\"full_text\"]\n",
    "        })\n",
    "    return answer\n",
    "\n"
   ]
  },
  {
   "cell_type": "code",
   "execution_count": 21,
   "id": "114a8145d141b76b",
   "metadata": {
    "ExecuteTime": {
     "end_time": "2025-06-26T16:19:23.349016Z",
     "start_time": "2025-06-26T16:19:23.346679Z"
    }
   },
   "outputs": [],
   "source": [
    "data = []\n",
    "for index,answer in enumerate(search_result):\n",
    "    question = question_list[index]\n",
    "    answer = get_answer_by_query(search_result[index])\n",
    "    data.append(answer)"
   ]
  },
  {
   "cell_type": "markdown",
   "id": "572ade97933c3844",
   "metadata": {},
   "source": [
    "定义系统角色+ 用户 prompt  ，用户提示使用 milvus 提示组装\n"
   ]
  },
  {
   "cell_type": "code",
   "execution_count": 23,
   "id": "d41872ff69cd58a4",
   "metadata": {
    "ExecuteTime": {
     "end_time": "2025-06-26T16:21:00.035402Z",
     "start_time": "2025-06-26T16:21:00.032412Z"
    }
   },
   "outputs": [],
   "source": [
    "def _format_answer_to_json(result_dict):\n",
    "    return json.dumps(result_dict,ensure_ascii=False,indent=4)"
   ]
  },
  {
   "cell_type": "code",
   "execution_count": 24,
   "id": "1625a5f4e9ac6a55",
   "metadata": {
    "ExecuteTime": {
     "end_time": "2025-06-26T16:23:07.872943Z",
     "start_time": "2025-06-26T16:23:07.871056Z"
    }
   },
   "outputs": [
    {
     "name": "stdout",
     "output_type": "stream",
     "text": [
      "['{\\n    \"id\": 318,\\n    \"distance\": 0.3773392140865326,\\n    \"text\": \"当事人可以约定，当一方违约时，向另一方支付一定数额的违约金。\\\\n约定的违约金低于造成的损失的，人民法院或者仲裁机构可以根据当事人的请求予以增加；约定的违约金过分高于造成的损失的，人民法院或者仲裁机构可以根据当事人的请求予以适当减少。\\\\n#### 第二章 合同的履行\"\\n}', '{\\n    \"id\": 194,\\n    \"distance\": 0.3645155131816864,\\n    \"text\": \"地役权人有权依照合同约定，利用他人的不动产，以提高自己的不动产的效益。\\\\n前款所称他人的不动产为供役地，自己的不动产为需役地。\\\\n#### 第四章 担保物权\\\\n##### 第一节 一般规定\"\\n}', '{\\n    \"id\": 299,\\n    \"distance\": 0.3592635691165924,\\n    \"text\": \"当事人对合同的效力可以约定附条件。\\\\n附生效条件的合同，自条件成就时生效。\\\\n附解除条件的合同，自条件成就时失效。\\\\n当事人为自己的利益不正当地阻止条件成就的，视为条件已经成就；不正当地促成条件成就的，视为条件不成就。\"\\n}', '{\\n    \"id\": 16,\\n    \"distance\": 0.40003785490989685,\\n    \"text\": \"权利人、利害关系人认为不动产登记簿记载的事项错误的，可以申请更正登记。不动产登记簿记载的权利人书面同意或者有证据证明登记确有错误的，登记机构应当予以更正。\\\\n不动产登记簿记载的权利人不同意更正的，利害关系人可以申请异议登记。登记机构予以异议登记的，申请人在异议登记之日起十五日内不提起诉讼的，异议登记失效。异议登记不当，造成权利人损害的，权利人可以请求损害赔偿。\"\\n}', '{\\n    \"id\": 23,\\n    \"distance\": 0.3961927592754364,\\n    \"text\": \"动产物权设立和转让，合同生效时，所有权没有转移，标的物也未交付，标的物由第三人占有的，出让人将返还请求权转让给受让人时，物权自交付时发生效力。\\\\n因受让人取得占有的，所有权自交付时发生效力。\"\\n}', '{\\n    \"id\": 17,\\n    \"distance\": 0.3947887420654297,\\n    \"text\": \"当事人签订买卖房屋的协议或者签订其他不动产物权的协议，为保障将来实现物权，可以依照约定向登记机构申请预告登记。预告登记后，未经预告登记的权利人同意，处分该不动产的，不发生物权效力。\\\\n预告登记后，债权消灭或者自能够进行不动产登记之日起九十日内未申请登记的，预告登记失效。\"\\n}']\n"
     ]
    }
   ],
   "source": [
    "context_array  = [ _format_answer_to_json(each_answer_dict) for answer in data for each_answer_dict in answer ]\n",
    "print(context_array)"
   ]
  },
  {
   "cell_type": "code",
   "execution_count": 47,
   "id": "5a92232a-b02e-4075-9b7d-06f0deb28b70",
   "metadata": {
    "ExecuteTime": {
     "end_time": "2025-06-26T16:33:06.774994Z",
     "start_time": "2025-06-26T16:32:37.248151Z"
    }
   },
   "outputs": [
    {
     "name": "stdout",
     "output_type": "stream",
     "text": [
      "    用户提问的问题为：民法典中关于房屋买卖合同的规定有哪些，\n",
      "    回答：\n",
      "    根据提供的上下文信息，民法典中与房屋买卖合同相关的规定主要包括以下几个方面：\n",
      "    1. 违约金条款：当事人可以约定违约金，若违约金低于或过分高于实际损失，法院或仲裁机构可应请求予以调整。\n",
      "    2. 合同效力附条件：合同可约定附生效条件或解除条件，并对不正当干预条件成就的行为作出法律推定。\n",
      "    3. 地役权相关：涉及不动产利用时，地役权人可依约利用他人不动产以提高自身不动产效益。\n",
      "\n",
      "    参考依据为:\n",
      "    - 违约金规定：当事人可约定违约金，法院有权调整不合理违约金（ID:318）\n",
      "    - 合同附条件：合同效力可附条件，并对条件成就的干预行为有明确规定（ID:299）\n",
      "    - 地役权条款：不动产利用中的权利义务关系（ID:194）\n",
      "\n",
      "    （注：由于上下文片段未直接提及\"房屋买卖\"专项条款，上述回答基于合同通用规则及不动产相关规定的推导）\n",
      "用户提问的问题为：业主拒缴物业费，物业公司能否以停水停电方式催缴\n",
      "\n",
      "回答：\n",
      "根据提供的上下文信息，这些段落主要涉及不动产登记、动产物权转让和预告登记等物权法相关内容，并未提及物业费催缴或停水停电等物业管理的具体规定。因此无法从当前提供的法律条文中得出关于物业公司能否以停水停电方式催缴物业费的明确答案。\n",
      "\n",
      "参考依据为：\n",
      "提供的三段上下文均来自《物权法》关于不动产登记（更正登记/异议登记）、动产物权转让效力以及预告登记的规定，与物业管理纠纷无直接关联。建议补充《物业管理条例》或《民法典》合同编相关条款进行针对性解答。\n"
     ]
    }
   ],
   "source": [
    "SYSTEM_PROMPT = \"\"\"\n",
    "Human: 你是一个 AI 助手。你能够从提供的上下文段落片段中找到问题的答案。\n",
    "\"\"\"\n",
    "for index, answer in enumerate(data) :\n",
    "    context_array = [ _format_answer_to_json(each_answer_dict) for each_answer_dict in answer]\n",
    "    context =  \"\\n\".join(context_array)\n",
    "    USER_PROMPT = f\"\"\"\n",
    "    请使用以下用 <context> 标签括起来的信息片段来回答用 <question> 标签括起来的问题,回复格式为：\n",
    "    用户提问的问题为：xxxx，\n",
    "    回答：\n",
    "    ....\n",
    "    参考依据为:\n",
    "    ....\n",
    "    <question>\n",
    "    {question_list[index]}\n",
    "    </question>\n",
    "    \n",
    "    <context>\n",
    "    {context}\n",
    "    </context>\n",
    "\n",
    "    \"\"\"\n",
    "    response = deepseek_client.chat.completions.create(\n",
    "    model=\"deepseek-chat\",\n",
    "    messages=[\n",
    "        {\"role\": \"system\", \"content\": SYSTEM_PROMPT},\n",
    "        {\"role\": \"user\", \"content\": USER_PROMPT},\n",
    "    ],\n",
    ")\n",
    "    print(response.choices[0].message.content)"
   ]
  }
 ],
 "metadata": {
  "kernelspec": {
   "display_name": "Python [conda env:geekbang_aistack_deepseek]",
   "language": "python",
   "name": "conda-env-geekbang_aistack_deepseek-py"
  },
  "language_info": {
   "codemirror_mode": {
    "name": "ipython",
    "version": 3
   },
   "file_extension": ".py",
   "mimetype": "text/x-python",
   "name": "python",
   "nbconvert_exporter": "python",
   "pygments_lexer": "ipython3",
   "version": "3.13.5"
  }
 },
 "nbformat": 4,
 "nbformat_minor": 5
}
